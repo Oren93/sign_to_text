{
 "cells": [
  {
   "cell_type": "markdown",
   "metadata": {},
   "source": [
    "# Models training\n",
    "In this notebook we train and analyze multiple models, compare them and tune them to get the best results. We will work with a small subset due to low hardware availability."
   ]
  },
  {
   "cell_type": "markdown",
   "metadata": {},
   "source": [
    "## 0.1 Load variable\n",
    "This notebook is a direct continuation of data_preprocessing.ipynb. We start by loading the necessary libraries variables from that."
   ]
  },
  {
   "cell_type": "code",
   "execution_count": 1,
   "metadata": {},
   "outputs": [],
   "source": [
    "import pandas as pd\n",
    "import numpy as np\n",
    "import pickle\n",
    "from collections import Counter\n",
    "import numpy as np\n",
    "from fastdtw import fastdtw\n",
    "from sklearn.cluster import KMeans\n",
    "import matplotlib.pyplot as plt\n",
    "\n",
    "with open('landmarks_subset_proccessed.pkl', 'rb') as file:\n",
    "    subset_landmarks = pickle.load(file)\n",
    "\n",
    "data_info = pd.read_csv('video_labels.csv',dtype={'video_id': object})\n",
    "subset_words = ['tall', 'man', 'red', 'shirt', 'play', 'basketball', 'cold', 'pizza', 'top', 'cheese', 'taste',\n",
    "                'delicious', 'lazy', 'afternoon', 'dark', 'room', 'small', 'lamp', 'empty',\n",
    "                'big', 'dog', 'walk', 'beautiful', 'every', 'morning', 'short',\n",
    "                'woman', 'wear', 'dress', 'have', 'beautiful', 'daughter']\n",
    "\n",
    "\n",
    "POSE = np.hstack((np.ones(33), np.zeros(21+21+468))) == 1\n",
    "LH = np.hstack((np.zeros(33), np.ones(21), np.zeros(21+468))) == 1\n",
    "RH = np.hstack((np.zeros(33+21), np.ones(21), np.zeros(468))) == 1\n",
    "FACE = np.hstack((np.zeros(33+21+21), np.ones(468))) == 1\n",
    "videos_per_word = Counter(data_info.loc[data_info.word.isin(subset_words),'word'])"
   ]
  },
  {
   "cell_type": "markdown",
   "metadata": {},
   "source": [
    "# 1.0 Unsupervised\n",
    "We first try and distinguish the words without letting the model know the labels.\n",
    "\n",
    "# 1.1 Dynamic Time Wrapping and KMeans (DTW)\n",
    "Dynamic Time Wrapping can detect similar motions but its computation is slow, let's take videos of two words only, without the face (which has the majority of landmarks) and check whether it is a good approach.\n",
    "\n",
    "We start with a sainity check for DTW. Just a few sample to keep computations reasonably quick."
   ]
  },
  {
   "cell_type": "code",
   "execution_count": 34,
   "metadata": {},
   "outputs": [
    {
     "name": "stdout",
     "output_type": "stream",
     "text": [
      "short 13\n",
      "tall 13\n",
      "woman 11\n",
      "man 12\n",
      "small 8\n",
      "big 9\n",
      "morning 6\n",
      "afternoon 7\n"
     ]
    },
    {
     "data": {
      "text/plain": [
       "16"
      ]
     },
     "execution_count": 34,
     "metadata": {},
     "output_type": "execute_result"
    }
   ],
   "source": [
    "words = [\"play\",\"basketball\",\"morning\",\"tall\",\"dress\",\"beautiful\"]\n",
    "words = [\"short\", \"tall\", \"woman\", \"man\",\"small\", \"big\", \"morning\", \"afternoon\", ]\n",
    "for word in words:\n",
    "    print(word, videos_per_word[word])\n",
    "\n",
    "dtw_landmarks = {}\n",
    "for word in words:\n",
    "    videos = data_info.loc[data_info.word==word,'video_id']\n",
    "    for vid in videos[:2]:\n",
    "        dtw_landmarks[vid] = subset_landmarks[vid][::3,POSE+LH+RH,:] # Exclude augmented videos for now\n",
    "len(dtw_landmarks)"
   ]
  },
  {
   "cell_type": "code",
   "execution_count": 35,
   "metadata": {},
   "outputs": [
    {
     "name": "stderr",
     "output_type": "stream",
     "text": [
      "/Users/oren/anaconda3/envs/ai/lib/python3.12/site-packages/sklearn/cluster/_kmeans.py:1412: FutureWarning: The default value of `n_init` will change from 10 to 'auto' in 1.4. Set the value of `n_init` explicitly to suppress the warning\n",
      "  super()._check_params_vs_input(X, default_n_init=10)\n"
     ]
    },
    {
     "data": {
      "image/png": "[encoded data removed]",
      "text/plain": [
       "<Figure size 640x480 with 1 Axes>"
      ]
     },
     "metadata": {},
     "output_type": "display_data"
    },
    {
     "name": "stdout",
     "output_type": "stream",
     "text": [
      "['short', 'tall', 'woman', 'man', 'small', 'big', 'morning', 'afternoon']\n"
     ]
    }
   ],
   "source": [
    "# Me: write me a python code to cluster mediapipe video landmarks using DTW\n",
    "# ChatGPT 3.5 answers:\n",
    "\n",
    "# Function to compute DTW distance between two sequences\n",
    "def dtw_distance(seq1, seq2):\n",
    "    distance, path = fastdtw(seq1, seq2)\n",
    "    return distance\n",
    "\n",
    "# Function to perform clustering using DTW\n",
    "def dtw_cluster(video_landmarks, num_clusters):\n",
    "    # Flatten the video landmarks into sequences\n",
    "    sequences = [frame.flatten() for frame in video_landmarks]\n",
    "\n",
    "    # Compute pairwise DTW distances\n",
    "    num_frames = len(video_landmarks)\n",
    "    distances = np.zeros((num_frames, num_frames))\n",
    "    for i in range(num_frames):\n",
    "        for j in range(i + 1, num_frames):\n",
    "            distances[i, j] = dtw_distance(sequences[i], sequences[j])\n",
    "            distances[j, i] = distances[i, j]\n",
    "\n",
    "    # Perform KMeans clustering based on DTW distances\n",
    "    kmeans = KMeans(n_clusters=num_clusters, random_state=42)\n",
    "    labels = kmeans.fit_predict(distances)\n",
    "\n",
    "    return labels\n",
    "\n",
    "# Example usage\n",
    "# Assuming 'video_landmarks' is a list of 2D arrays representing landmarks for each frame\n",
    "# You can adjust 'num_clusters' based on your requirements\n",
    "num_clusters = len(words)\n",
    "cluster_labels = dtw_cluster(dtw_landmarks.values(), num_clusters)\n",
    "\n",
    "# Visualize the clustering results\n",
    "x = np.array([i for i in range(len(dtw_landmarks))])%int(len(dtw_landmarks)/2)\n",
    "y = [0] * int(len(dtw_landmarks)/2) + [1] * int(len(dtw_landmarks)/2)\n",
    "\n",
    "#plt.scatter(range(len(dtw_landmarks)), [0] * len(dtw_landmarks), c=cluster_labels, cmap='viridis')\n",
    "plt.scatter(x, y, c=cluster_labels, cmap='viridis')\n",
    "plt.title('DTW Clustering Results')\n",
    "plt.axis('equal')\n",
    "\n",
    "plt.show()\n",
    "print(words)"
   ]
  },
  {
   "cell_type": "code",
   "execution_count": 49,
   "metadata": {},
   "outputs": [
    {
     "data": {
      "image/png": "[encoded data removed]",
      "text/plain": [
       "<Figure size 640x480 with 1 Axes>"
      ]
     },
     "metadata": {},
     "output_type": "display_data"
    }
   ],
   "source": [
    "# Visualize the clustering results\n",
    "x = np.array([i for i in range(len(dtw_landmarks))])%int(len(dtw_landmarks)/4)\n",
    "y = [0] * int(len(dtw_landmarks)/4) + [1] * int(len(dtw_landmarks)/4) +[2] * int(len(dtw_landmarks)/4) + [3] * int(len(dtw_landmarks)/4)\n",
    "\n",
    "#plt.scatter(range(len(dtw_landmarks)), [0] * len(dtw_landmarks), c=cluster_labels, cmap='viridis')\n",
    "plt.scatter(x, y, c=cluster_labels, cmap='Set1', marker='o', s=150, alpha=1)\n",
    "plt.title('DTW Clustering Results')\n",
    "plt.axis('equal')\n",
    "plt.show()"
   ]
  },
  {
   "cell_type": "markdown",
   "metadata": {},
   "source": [
    "## 3.2 LSTM\n",
    "Copy from a tutorial"
   ]
  },
  {
   "cell_type": "code",
   "execution_count": 63,
   "metadata": {},
   "outputs": [
    {
     "ename": "ModuleNotFoundError",
     "evalue": "No module named 'tensorflow'",
     "output_type": "error",
     "traceback": [
      "\u001b[0;31m---------------------------------------------------------------------------\u001b[0m",
      "\u001b[0;31mModuleNotFoundError\u001b[0m                       Traceback (most recent call last)",
      "Cell \u001b[0;32mIn[63], line 1\u001b[0m\n\u001b[0;32m----> 1\u001b[0m \u001b[38;5;28;01mfrom\u001b[39;00m \u001b[38;5;21;01mtensorflow\u001b[39;00m\u001b[38;5;21;01m.\u001b[39;00m\u001b[38;5;21;01mkeras\u001b[39;00m\u001b[38;5;21;01m.\u001b[39;00m\u001b[38;5;21;01mmodels\u001b[39;00m \u001b[38;5;28;01mimport\u001b[39;00m Sequential\n\u001b[1;32m      2\u001b[0m \u001b[38;5;28;01mfrom\u001b[39;00m \u001b[38;5;21;01mtensorflow\u001b[39;00m\u001b[38;5;21;01m.\u001b[39;00m\u001b[38;5;21;01mkeras\u001b[39;00m\u001b[38;5;21;01m.\u001b[39;00m\u001b[38;5;21;01mlayers\u001b[39;00m \u001b[38;5;28;01mimport\u001b[39;00m LSTM, Dense\n\u001b[1;32m      3\u001b[0m \u001b[38;5;28;01mfrom\u001b[39;00m \u001b[38;5;21;01mtensorflow\u001b[39;00m\u001b[38;5;21;01m.\u001b[39;00m\u001b[38;5;21;01mkeras\u001b[39;00m\u001b[38;5;21;01m.\u001b[39;00m\u001b[38;5;21;01mcallbacks\u001b[39;00m \u001b[38;5;28;01mimport\u001b[39;00m TensorBoard\n",
      "\u001b[0;31mModuleNotFoundError\u001b[0m: No module named 'tensorflow'"
     ]
    }
   ],
   "source": [
    "from tensorflow.keras.models import Sequential\n",
    "from tensorflow.keras.layers import LSTM, Dense\n",
    "from tensorflow.keras.callbacks import TensorBoard"
   ]
  },
  {
   "cell_type": "code",
   "execution_count": null,
   "metadata": {},
   "outputs": [],
   "source": [
    "log_dir = os.path.join('Logs')\n",
    "tb_callback = TensorBoard(log_dir=log_dir)"
   ]
  },
  {
   "cell_type": "code",
   "execution_count": 61,
   "metadata": {},
   "outputs": [
    {
     "data": {
      "text/plain": [
       "543"
      ]
     },
     "execution_count": 61,
     "metadata": {},
     "output_type": "execute_result"
    }
   ],
   "source": [
    "subset_landmarks['51221'].shape[1]"
   ]
  },
  {
   "cell_type": "code",
   "execution_count": null,
   "metadata": {},
   "outputs": [],
   "source": [
    "model = Sequential()\n",
    "model.add(LSTM(64, return_sequences=True, activation='relu', input_shape=(30,1662)))\n",
    "model.add(LSTM(128, return_sequences=True, activation='relu'))\n",
    "model.add(LSTM(64, return_sequences=False, activation='relu'))\n",
    "model.add(Dense(64, activation='relu'))\n",
    "model.add(Dense(32, activation='relu'))\n",
    "model.add(Dense(actions.shape[0], activation='softmax'))"
   ]
  },
  {
   "cell_type": "code",
   "execution_count": null,
   "metadata": {},
   "outputs": [],
   "source": [
    "model.compile(optimizer='Adam', loss='categorical_crossentropy', metrics=['categorical_accuracy'])"
   ]
  },
  {
   "cell_type": "code",
   "execution_count": null,
   "metadata": {},
   "outputs": [],
   "source": [
    "model.fit(X_train, y_train, epochs=2000, callbacks=[tb_callback])"
   ]
  },
  {
   "cell_type": "code",
   "execution_count": null,
   "metadata": {},
   "outputs": [],
   "source": [
    "model.summary()"
   ]
  }
 ],
 "metadata": {
  "kernelspec": {
   "display_name": "ai",
   "language": "python",
   "name": "python3"
  },
  "language_info": {
   "codemirror_mode": {
    "name": "ipython",
    "version": 3
   },
   "file_extension": ".py",
   "mimetype": "text/x-python",
   "name": "python",
   "nbconvert_exporter": "python",
   "pygments_lexer": "ipython3",
   "version": "3.12.1"
  }
 },
 "nbformat": 4,
 "nbformat_minor": 2
}
