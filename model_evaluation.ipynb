{
 "cells": [
  {
   "cell_type": "markdown",
   "metadata": {},
   "source": [
    "# Models training\n",
    "In this notebook we train and analyze multiple models, compare them and tune them to get the best results. We will work with a small subset due to low hardware availability."
   ]
  },
  {
   "cell_type": "markdown",
   "metadata": {},
   "source": [
    "# 1.0 Unsupervised\n",
    "We first try and distinguish the words without letting the model know the labels.\n",
    "\n",
    "# 1.1 Dynamic Time Wrapping and KMeans (DTW)"
   ]
  },
  {
   "cell_type": "code",
   "execution_count": null,
   "metadata": {},
   "outputs": [],
   "source": [
    "# After Kernel restart you can sgtart here.\n",
    "import pandas as pd\n",
    "import os\n",
    "import numpy as np\n",
    "import pickle\n",
    "from collections import Counter\n",
    "\n",
    "with open('landmarks_subset_proccessed.pkl', 'rb') as file:\n",
    "    subset_landmarks = pickle.load(file)\n",
    "\n",
    "data_info = pd.read_csv('video_labels.csv',dtype={'video_id': object})\n",
    "subset_words = ['tall', 'man', 'red', 'shirt', 'play', 'basketball', 'cold', 'pizza', 'top', 'cheese', 'taste',\n",
    "                'delicious', 'lazy', 'afternoon', 'dark', 'room', 'small', 'lamp', 'empty',\n",
    "                'big', 'dog', 'walk', 'beautiful', 'every', 'morning', 'short',\n",
    "                'woman', 'wear', 'dress', 'have', 'beautiful', 'daughter']\n",
    "\n",
    "\n",
    "POSE = np.hstack((np.ones(33), np.zeros(21+21+468))) == 1\n",
    "LH = np.hstack((np.zeros(33), np.ones(21), np.zeros(21+468))) == 1\n",
    "RH = np.hstack((np.zeros(33+21), np.ones(21), np.zeros(468))) == 1\n",
    "FACE = np.hstack((np.zeros(33+21+21), np.ones(468))) == 1\n",
    "videos_per_word = Counter(data_info.loc[data_info.word.isin(subset_words),'word'])"
   ]
  },
  {
   "cell_type": "markdown",
   "metadata": {},
   "source": [
    "## 3.1 Sainity chack with DTW\n",
    "Dynamic Time Wrapping can detect similar motions but its computation is slow, let's take videos of two words only, without the face (which has the majority of landmarks) and check whether it is a good approach."
   ]
  },
  {
   "cell_type": "code",
   "execution_count": null,
   "metadata": {},
   "outputs": [
    {
     "name": "stdout",
     "output_type": "stream",
     "text": [
      "play 11\n",
      "basketball 12\n",
      "morning 6\n",
      "tall 13\n",
      "dress 8\n"
     ]
    },
    {
     "data": {
      "text/plain": [
       "10"
      ]
     },
     "metadata": {},
     "output_type": "display_data"
    }
   ],
   "source": [
    "words = [\"play\",\"basketball\",\"morning\",\"tall\",\"dress\",\"beautiful\"]\n",
    "for word in words:\n",
    "    print(word, videos_per_word[word])\n",
    "\n",
    "dtw_landmarks = {}\n",
    "for word in words:\n",
    "    videos = data_info.loc[data_info.word==word,'video_id']\n",
    "    for vid in videos[:2]:\n",
    "        dtw_landmarks[vid] = subset_landmarks[vid][::3,POSE+LH+RH,:] # Exclude augmented videos for now\n",
    "len(dtw_landmarks)"
   ]
  },
  {
   "cell_type": "code",
   "execution_count": null,
   "metadata": {},
   "outputs": [
    {
     "name": "stderr",
     "output_type": "stream",
     "text": [
      "/Users/oren/anaconda3/envs/ai/lib/python3.12/site-packages/sklearn/cluster/_kmeans.py:1412: FutureWarning: The default value of `n_init` will change from 10 to 'auto' in 1.4. Set the value of `n_init` explicitly to suppress the warning\n",
      "  super()._check_params_vs_input(X, default_n_init=10)\n"
     ]
    },
    {
     "data": {
      "image/png": "[encoded data removed]",
      "text/plain": [
       "<Figure size 640x480 with 1 Axes>"
      ]
     },
     "metadata": {},
     "output_type": "display_data"
    },
    {
     "name": "stdout",
     "output_type": "stream",
     "text": [
      "['play', 'basketball', 'morning', 'tall', 'dress']\n"
     ]
    }
   ],
   "source": [
    "import numpy as np\n",
    "from fastdtw import fastdtw\n",
    "from sklearn.cluster import KMeans\n",
    "import matplotlib.pyplot as plt\n",
    "\n",
    "# Function to compute DTW distance between two sequences\n",
    "def dtw_distance(seq1, seq2):\n",
    "    distance, path = fastdtw(seq1, seq2)\n",
    "    return distance\n",
    "\n",
    "# Function to perform clustering using DTW\n",
    "def dtw_cluster(video_landmarks, num_clusters):\n",
    "    # Flatten the video landmarks into sequences\n",
    "    sequences = [frame.flatten() for frame in video_landmarks]\n",
    "\n",
    "    # Compute pairwise DTW distances\n",
    "    num_frames = len(video_landmarks)\n",
    "    distances = np.zeros((num_frames, num_frames))\n",
    "    for i in range(num_frames):\n",
    "        for j in range(i + 1, num_frames):\n",
    "            distances[i, j] = dtw_distance(sequences[i], sequences[j])\n",
    "            distances[j, i] = distances[i, j]\n",
    "\n",
    "    # Perform KMeans clustering based on DTW distances\n",
    "    kmeans = KMeans(n_clusters=num_clusters, random_state=42)\n",
    "    labels = kmeans.fit_predict(distances)\n",
    "\n",
    "    return labels\n",
    "\n",
    "# Example usage\n",
    "# Assuming 'video_landmarks' is a list of 2D arrays representing landmarks for each frame\n",
    "# You can adjust 'num_clusters' based on your requirements\n",
    "num_clusters = len(words)\n",
    "cluster_labels = dtw_cluster(dtw_landmarks.values(), num_clusters)\n",
    "\n",
    "# Visualize the clustering results\n",
    "plt.scatter(range(len(dtw_landmarks)), [0] * len(dtw_landmarks), c=cluster_labels, cmap='viridis')\n",
    "plt.title('DTW Clustering Results')\n",
    "plt.show()\n",
    "print(words)"
   ]
  }
 ],
 "metadata": {
  "language_info": {
   "name": "python"
  }
 },
 "nbformat": 4,
 "nbformat_minor": 2
}
