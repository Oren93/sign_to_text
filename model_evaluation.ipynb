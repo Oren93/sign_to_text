{
 "cells": [
  {
   "cell_type": "markdown",
   "metadata": {},
   "source": [
    "# Models training\n",
    "In this notebook we train and analyze multiple models, compare them and tune them to get the best results. We will work with a small subset due to low hardware availability."
   ]
  },
  {
   "cell_type": "markdown",
   "metadata": {},
   "source": [
    "## 0.1 Load variable\n",
    "This notebook is a direct continuation of data_preprocessing.ipynb. We start by loading the necessary libraries variables from that."
   ]
  },
  {
   "cell_type": "code",
   "execution_count": 178,
   "metadata": {},
   "outputs": [],
   "source": [
    "import os\n",
    "import pickle\n",
    "import numpy as np\n",
    "import pandas as pd\n",
    "import matplotlib.pyplot as plt\n",
    "from fastdtw import fastdtw\n",
    "from collections import Counter\n",
    "from sklearn.cluster import KMeans\n",
    "from tensorflow.keras.models import Sequential\n",
    "from tensorflow.keras.layers import LSTM, Dense\n",
    "\n",
    "\n",
    "with open('landmarks_subset_proccessed.pkl', 'rb') as file:\n",
    "    subset_landmarks = pickle.load(file)\n",
    "\n",
    "data_info = pd.read_csv('video_labels.csv',dtype={'video_id': object})\n",
    "subset_words = ['tall', 'man', 'red', 'shirt', 'play', 'basketball', 'cold', 'pizza', 'top', 'cheese', 'taste',\n",
    "                'delicious', 'lazy', 'afternoon', 'dark', 'room', 'small', 'lamp', 'empty',\n",
    "                'big', 'dog', 'walk', 'beautiful', 'every', 'morning', 'short',\n",
    "                'woman', 'wear', 'dress', 'have', 'beautiful', 'daughter']\n",
    "\n",
    "\n",
    "POSE = np.hstack((np.ones(33), np.zeros(21+21+468))) == 1\n",
    "LH = np.hstack((np.zeros(33), np.ones(21), np.zeros(21+468))) == 1\n",
    "RH = np.hstack((np.zeros(33+21), np.ones(21), np.zeros(468))) == 1\n",
    "FACE = np.hstack((np.zeros(33+21+21), np.ones(468))) == 1\n",
    "videos_per_word = Counter(data_info.loc[data_info.word.isin(subset_words),'word'])"
   ]
  },
  {
   "cell_type": "code",
   "execution_count": 2,
   "metadata": {},
   "outputs": [
    {
     "name": "stdout",
     "output_type": "stream",
     "text": [
      "subset train data count: 202\n",
      "subset test data count: 37\n",
      "subset validation data count: 32\n",
      "num of words: 31\n"
     ]
    }
   ],
   "source": [
    "train_signer_ids = [118, 31, 59, 11, 115, 94, 6, 21, 10, 38, 56, 41, 4, 45, 32, 46, 13,\n",
    "                    42, 39, 17, 89, 60, 35, 15, 3, 92, 93, 34, 107, 28, 99, 37, 8, 97,\n",
    "                    70, 19, 91, 106, 63, 29, 26, 117, 66, 119, 50, 103, 120, 95, 78, 27,\n",
    "                    108, 57, 53, 75, 104, 43, 40, 77, 1, 33, 22, 105, 48, 73, 23]\n",
    "val_signer_ids = [2, 52, 12, 98, 88]\n",
    "test_signer_ids = [59, 115, 90, 4, 116, 100, 101, 102, 96, 90]\n",
    "\n",
    "num_of_words = data_info[data_info[\"word\"].isin(subset_words)][\"word\"].nunique()\n",
    "subset_data = data_info[data_info[\"word\"].isin(subset_words)]\n",
    "subset_train_data = subset_data[subset_data[\"signer_id\"].isin(train_signer_ids)]\n",
    "subset_test_data = subset_data[subset_data[\"signer_id\"].isin(val_signer_ids)]\n",
    "subset_validation_data = subset_data[subset_data[\"signer_id\"].isin(test_signer_ids)]\n",
    "\n",
    "print(f\"subset train data count: {len(subset_train_data)}\")\n",
    "print(f\"subset test data count: {len(subset_test_data)}\")\n",
    "print(f\"subset validation data count: {len(subset_validation_data)}\")\n",
    "print(f\"num of words: {num_of_words}\")"
   ]
  },
  {
   "cell_type": "markdown",
   "metadata": {},
   "source": [
    "# 1.0 Unsupervised\n",
    "We first try and distinguish the words without letting the model know the labels.\n",
    "\n",
    "# 1.1 Dynamic Time Wrapping and KMeans (DTW)\n",
    "Dynamic Time Wrapping can detect similar motions but its computation is slow, let's take videos of two words only, without the face (which has the majority of landmarks) and check whether it is a good approach.\n",
    "\n",
    "We start with a sainity check for DTW. Just a few sample to keep computations reasonably quick."
   ]
  },
  {
   "cell_type": "code",
   "execution_count": 43,
   "metadata": {},
   "outputs": [
    {
     "name": "stdout",
     "output_type": "stream",
     "text": [
      "short 13\n",
      "tall 13\n",
      "woman 11\n",
      "man 12\n",
      "small 8\n",
      "big 9\n",
      "morning 6\n",
      "afternoon 7\n"
     ]
    },
    {
     "data": {
      "text/plain": [
       "16"
      ]
     },
     "execution_count": 43,
     "metadata": {},
     "output_type": "execute_result"
    }
   ],
   "source": [
    "SKIP_FRAMES = 3 # Take every 3rd frame to speed training up. It is an hyperparameter as well\n",
    "\n",
    "words = [\"play\",\"basketball\",\"morning\",\"tall\",\"dress\",\"beautiful\"]\n",
    "words = [\"short\", \"tall\", \"woman\", \"man\",\"small\", \"big\", \"morning\", \"afternoon\", ]\n",
    "for word in words:\n",
    "    print(word, videos_per_word[word])\n",
    "\n",
    "dtw_landmarks = {}\n",
    "for word in words:\n",
    "    videos = data_info.loc[data_info.word==word,'video_id']\n",
    "    # Exclude augmented videos for now\n",
    "    for vid in videos[:2]:\n",
    "        dtw_landmarks[vid] = subset_landmarks[vid][::SKIP_FRAMES,POSE+LH+RH,:]\n",
    "len(dtw_landmarks)"
   ]
  },
  {
   "cell_type": "code",
   "execution_count": 3,
   "metadata": {},
   "outputs": [
    {
     "name": "stderr",
     "output_type": "stream",
     "text": [
      "/Users/oren/anaconda3/envs/tf/lib/python3.8/site-packages/sklearn/cluster/_kmeans.py:1416: FutureWarning: The default value of `n_init` will change from 10 to 'auto' in 1.4. Set the value of `n_init` explicitly to suppress the warning\n",
      "  super()._check_params_vs_input(X, default_n_init=10)\n",
      "/Users/oren/anaconda3/envs/tf/lib/python3.8/site-packages/threadpoolctl.py:1010: RuntimeWarning: \n",
      "Found Intel OpenMP ('libiomp') and LLVM OpenMP ('libomp') loaded at\n",
      "the same time. Both libraries are known to be incompatible and this\n",
      "can cause random crashes or deadlocks on Linux when loaded in the\n",
      "same Python program.\n",
      "Using threadpoolctl may cause crashes or deadlocks. For more\n",
      "information and possible workarounds, please see\n",
      "    https://github.com/joblib/threadpoolctl/blob/master/multiple_openmp.md\n",
      "\n",
      "  warnings.warn(msg, RuntimeWarning)\n"
     ]
    },
    {
     "data": {
      "image/png": "[encoded data removed]",
      "text/plain": [
       "<Figure size 640x480 with 1 Axes>"
      ]
     },
     "metadata": {},
     "output_type": "display_data"
    },
    {
     "name": "stdout",
     "output_type": "stream",
     "text": [
      "['short', 'tall', 'woman', 'man', 'small', 'big', 'morning', 'afternoon']\n"
     ]
    }
   ],
   "source": [
    "# Me: write me a python code to cluster mediapipe video landmarks using DTW\n",
    "# ChatGPT 3.5 answers:\n",
    "\n",
    "# Function to compute DTW distance between two sequences\n",
    "def dtw_distance(seq1, seq2):\n",
    "    distance, path = fastdtw(seq1, seq2)\n",
    "    return distance\n",
    "\n",
    "# Function to perform clustering using DTW\n",
    "def dtw_cluster(video_landmarks, num_clusters):\n",
    "    # Flatten the video landmarks into sequences\n",
    "    sequences = [frame.flatten() for frame in video_landmarks]\n",
    "\n",
    "    # Compute pairwise DTW distances\n",
    "    num_frames = len(video_landmarks)\n",
    "    distances = np.zeros((num_frames, num_frames))\n",
    "    for i in range(num_frames):\n",
    "        for j in range(i + 1, num_frames):\n",
    "            distances[i, j] = dtw_distance(sequences[i], sequences[j])\n",
    "            distances[j, i] = distances[i, j]\n",
    "\n",
    "    # Perform KMeans clustering based on DTW distances\n",
    "    kmeans = KMeans(n_clusters=num_clusters, random_state=42)\n",
    "    labels = kmeans.fit_predict(distances)\n",
    "\n",
    "    return labels\n",
    "\n",
    "# Example usage\n",
    "# Assuming 'video_landmarks' is a list of 2D arrays representing landmarks for each frame\n",
    "# You can adjust 'num_clusters' based on your requirements\n",
    "num_clusters = 4#len(words)\n",
    "cluster_labels = dtw_cluster(dtw_landmarks.values(), num_clusters)\n",
    "\n",
    "# Visualize the clustering results\n",
    "x = np.array([i for i in range(len(dtw_landmarks))])%int(len(dtw_landmarks)/2)\n",
    "y = [0] * int(len(dtw_landmarks)/2) + [1] * int(len(dtw_landmarks)/2)\n",
    "\n",
    "#plt.scatter(range(len(dtw_landmarks)), [0] * len(dtw_landmarks), c=cluster_labels, cmap='viridis')\n",
    "plt.scatter(x, y, c=cluster_labels, cmap='viridis')\n",
    "plt.title('DTW Clustering Results')\n",
    "plt.axis('equal')\n",
    "\n",
    "plt.show()\n",
    "print(words)"
   ]
  },
  {
   "cell_type": "code",
   "execution_count": 4,
   "metadata": {},
   "outputs": [
    {
     "data": {
      "image/png": "[encoded data removed]",
      "text/plain": [
       "<Figure size 640x480 with 1 Axes>"
      ]
     },
     "metadata": {},
     "output_type": "display_data"
    }
   ],
   "source": [
    "# Visualize the clustering results\n",
    "x = np.array([i for i in range(len(dtw_landmarks))])%int(len(dtw_landmarks)/4)\n",
    "y = [0] * int(len(dtw_landmarks)/4) + [1] * int(len(dtw_landmarks)/4) +[2] * int(len(dtw_landmarks)/4) + [3] * int(len(dtw_landmarks)/4)\n",
    "\n",
    "#plt.scatter(range(len(dtw_landmarks)), [0] * len(dtw_landmarks), c=cluster_labels, cmap='viridis')\n",
    "plt.scatter(x, y, c=cluster_labels, cmap='Set1', marker='o', s=150, alpha=1)\n",
    "plt.title('DTW Clustering Results')\n",
    "plt.axis('equal')\n",
    "plt.show()"
   ]
  },
  {
   "cell_type": "markdown",
   "metadata": {},
   "source": [
    "## 3.2 LSTM"
   ]
  },
  {
   "cell_type": "markdown",
   "metadata": {},
   "source": [
    "<hr style=\"color: red\">\n",
    "\n",
    "ChatGPT code tryout"
   ]
  },
  {
   "cell_type": "markdown",
   "metadata": {},
   "source": [
    "List of hyperparameters:\n",
    "- **Frame rate** it alsmost certain that the accuracy won't change much between taking all frames and taking every other frame, but what is the lowest frame rate we can take without impacting the results too much?\n",
    "- **Dimensions** Check wether 3D is significanly more sufficient than 2D\n",
    "- **Face landmarks** Do the face landmarks contribute much? If yes, how many of them should we take?\n"
   ]
  },
  {
   "cell_type": "code",
   "execution_count": 179,
   "metadata": {},
   "outputs": [],
   "source": [
    "PICKED_FRAMES = 24 # min([len(video) for video in landmarks.values()])\n",
    "DIMENSTIONS = 3"
   ]
  },
  {
   "cell_type": "code",
   "execution_count": 180,
   "metadata": {},
   "outputs": [],
   "source": [
    "def pick_frames(video,num_frames):\n",
    "    ''' Take a subset of the frames, evenly spread over the whole video'''\n",
    "    step_size = len(video) // num_frames\n",
    "    video_shorter = video[::step_size][:num_frames]\n",
    "    return video_shorter"
   ]
  },
  {
   "cell_type": "code",
   "execution_count": 181,
   "metadata": {},
   "outputs": [
    {
     "name": "stdout",
     "output_type": "stream",
     "text": [
      "274 videos in in total for 32 words\n"
     ]
    }
   ],
   "source": [
    "words = subset_words\n",
    "\n",
    "lstm_landmarks = {}\n",
    "for word in words:\n",
    "    videos = data_info.loc[data_info.word==word,'video_id']\n",
    "    for vid in videos:\n",
    "        lstm_landmarks[vid] = pick_frames(subset_landmarks[vid][:,POSE+LH+RH,:DIMENSTIONS].copy(),PICKED_FRAMES)\n",
    "print(f'{len(lstm_landmarks)} videos in in total for {len(words)} words')"
   ]
  },
  {
   "cell_type": "code",
   "execution_count": 182,
   "metadata": {},
   "outputs": [],
   "source": [
    "for video_id, video in lstm_landmarks.items():\n",
    "    sequences = np.array([frame.flatten() for frame in video])\n",
    "    lstm_landmarks[video_id] = sequences\n",
    "\n",
    "train_ids = list(data_info.loc[data_info.split=='train','video_id'])\n",
    "validation_ids = list(data_info.loc[data_info.split=='val','video_id'])\n",
    "test_ids = list(data_info.loc[data_info.split=='test','video_id'])\n",
    "\n",
    "\n",
    "X_train = np.array([video for id, video in lstm_landmarks.items() if id in train_ids])\n",
    "y_train = [data_info.loc[data_info.video_id==id,'word'].item() for id in lstm_landmarks.keys() if id in train_ids]\n",
    "\n",
    "X_val = np.array([video for id, video in lstm_landmarks.items() if id in validation_ids])\n",
    "y_val = [data_info.loc[data_info.video_id==id,'word'].item() for id in lstm_landmarks.keys() if id in validation_ids]\n",
    "\n",
    "X_test = np.array([video for id, video in lstm_landmarks.items() if id in test_ids])\n",
    "y_test = [data_info.loc[data_info.video_id==id,'word'].item() for id in lstm_landmarks.keys() if id in test_ids]\n",
    "\n",
    "# Suffle the train set\n",
    "num_instances = X_train.shape[0]\n",
    "shuffled_indices = np.arange(num_instances)\n",
    "np.random.shuffle(shuffled_indices)\n",
    "X_train = X_train[shuffled_indices]\n",
    "y_train = np.array(y_train)[shuffled_indices]"
   ]
  },
  {
   "cell_type": "code",
   "execution_count": 189,
   "metadata": {},
   "outputs": [
    {
     "name": "stdout",
     "output_type": "stream",
     "text": [
      "Epoch 1/100\n",
      "25/25 [==============================] - 5s 33ms/step - loss: 3.4698 - categorical_accuracy: 0.0258\n",
      "Epoch 2/100\n",
      "25/25 [==============================] - 1s 27ms/step - loss: 3.4135 - categorical_accuracy: 0.0464\n",
      "Epoch 3/100\n",
      "25/25 [==============================] - 1s 28ms/step - loss: 3.3938 - categorical_accuracy: 0.0979\n",
      "Epoch 4/100\n",
      "25/25 [==============================] - 0s 20ms/step - loss: 3.3929 - categorical_accuracy: 0.0979\n",
      "Epoch 5/100\n",
      "25/25 [==============================] - 0s 19ms/step - loss: 3.2805 - categorical_accuracy: 0.0928\n",
      "Epoch 6/100\n",
      "25/25 [==============================] - 0s 18ms/step - loss: 3.1690 - categorical_accuracy: 0.0670\n",
      "Epoch 7/100\n",
      "25/25 [==============================] - 0s 19ms/step - loss: 3.0576 - categorical_accuracy: 0.0670\n",
      "Epoch 8/100\n",
      "25/25 [==============================] - 0s 20ms/step - loss: 2.9762 - categorical_accuracy: 0.0928\n",
      "Epoch 9/100\n",
      "25/25 [==============================] - 1s 20ms/step - loss: 2.9145 - categorical_accuracy: 0.1340\n",
      "Epoch 10/100\n",
      "25/25 [==============================] - 1s 23ms/step - loss: 2.9084 - categorical_accuracy: 0.1340\n",
      "Epoch 11/100\n",
      "25/25 [==============================] - 1s 20ms/step - loss: 2.8707 - categorical_accuracy: 0.1340\n",
      "Epoch 12/100\n",
      "25/25 [==============================] - 1s 20ms/step - loss: 2.8051 - categorical_accuracy: 0.1392\n",
      "Epoch 13/100\n",
      "25/25 [==============================] - 0s 19ms/step - loss: 2.9102 - categorical_accuracy: 0.1237\n",
      "Epoch 14/100\n",
      "25/25 [==============================] - 0s 19ms/step - loss: 2.8503 - categorical_accuracy: 0.0979\n",
      "Epoch 15/100\n",
      "25/25 [==============================] - 1s 20ms/step - loss: 2.8527 - categorical_accuracy: 0.0876\n",
      "Epoch 16/100\n",
      "25/25 [==============================] - 0s 19ms/step - loss: 2.7934 - categorical_accuracy: 0.1186\n",
      "Epoch 17/100\n",
      "25/25 [==============================] - 1s 23ms/step - loss: 2.7197 - categorical_accuracy: 0.1237\n",
      "Epoch 18/100\n",
      "25/25 [==============================] - 1s 24ms/step - loss: 2.7227 - categorical_accuracy: 0.1134\n",
      "Epoch 19/100\n",
      "25/25 [==============================] - 0s 20ms/step - loss: 3.1888 - categorical_accuracy: 0.1392\n",
      "Epoch 20/100\n",
      "25/25 [==============================] - 1s 20ms/step - loss: 3.0057 - categorical_accuracy: 0.0825\n",
      "Epoch 21/100\n",
      "25/25 [==============================] - 0s 19ms/step - loss: 2.8385 - categorical_accuracy: 0.1186\n",
      "Epoch 22/100\n",
      "25/25 [==============================] - 0s 19ms/step - loss: 2.8087 - categorical_accuracy: 0.1289\n",
      "Epoch 23/100\n",
      "25/25 [==============================] - 0s 20ms/step - loss: 2.7080 - categorical_accuracy: 0.1753\n",
      "Epoch 24/100\n",
      "25/25 [==============================] - 0s 19ms/step - loss: 2.6453 - categorical_accuracy: 0.1443\n",
      "Epoch 25/100\n",
      "25/25 [==============================] - 0s 20ms/step - loss: 2.6829 - categorical_accuracy: 0.1082\n",
      "Epoch 26/100\n",
      "25/25 [==============================] - 0s 19ms/step - loss: 2.6112 - categorical_accuracy: 0.1392\n",
      "Epoch 27/100\n",
      "25/25 [==============================] - 0s 20ms/step - loss: 2.5605 - categorical_accuracy: 0.2010\n",
      "Epoch 28/100\n",
      "25/25 [==============================] - 0s 19ms/step - loss: 2.5388 - categorical_accuracy: 0.2113\n",
      "Epoch 29/100\n",
      "25/25 [==============================] - 1s 22ms/step - loss: 2.4846 - categorical_accuracy: 0.2423\n",
      "Epoch 30/100\n",
      "25/25 [==============================] - 1s 21ms/step - loss: 2.3771 - categorical_accuracy: 0.2216\n",
      "Epoch 31/100\n",
      "25/25 [==============================] - 1s 27ms/step - loss: 2.5519 - categorical_accuracy: 0.2113\n",
      "Epoch 32/100\n",
      "25/25 [==============================] - 1s 23ms/step - loss: 2.3955 - categorical_accuracy: 0.2371\n",
      "Epoch 33/100\n",
      "25/25 [==============================] - 1s 24ms/step - loss: 2.3487 - categorical_accuracy: 0.2371\n",
      "Epoch 34/100\n",
      "25/25 [==============================] - 1s 20ms/step - loss: 2.3769 - categorical_accuracy: 0.2629\n",
      "Epoch 35/100\n",
      "25/25 [==============================] - 1s 21ms/step - loss: 2.3024 - categorical_accuracy: 0.2526\n",
      "Epoch 36/100\n",
      "25/25 [==============================] - 1s 28ms/step - loss: 2.2800 - categorical_accuracy: 0.2423\n",
      "Epoch 37/100\n",
      "25/25 [==============================] - 1s 28ms/step - loss: 2.2582 - categorical_accuracy: 0.2526\n",
      "Epoch 38/100\n",
      "25/25 [==============================] - 1s 27ms/step - loss: 2.1685 - categorical_accuracy: 0.2629\n",
      "Epoch 39/100\n",
      "25/25 [==============================] - 1s 27ms/step - loss: 6.8862 - categorical_accuracy: 0.1392\n",
      "Epoch 40/100\n",
      "25/25 [==============================] - 1s 21ms/step - loss: 2.7800 - categorical_accuracy: 0.1392\n",
      "Epoch 41/100\n",
      "25/25 [==============================] - 1s 22ms/step - loss: 2.5671 - categorical_accuracy: 0.1340\n",
      "Epoch 42/100\n",
      "25/25 [==============================] - 1s 24ms/step - loss: 2.4216 - categorical_accuracy: 0.2268\n",
      "Epoch 43/100\n",
      "25/25 [==============================] - 1s 21ms/step - loss: 2.3740 - categorical_accuracy: 0.2113\n",
      "Epoch 44/100\n",
      "25/25 [==============================] - 1s 21ms/step - loss: 2.3071 - categorical_accuracy: 0.2113\n",
      "Epoch 45/100\n",
      "25/25 [==============================] - 1s 26ms/step - loss: 2.3088 - categorical_accuracy: 0.2165\n",
      "Epoch 46/100\n",
      "25/25 [==============================] - 1s 32ms/step - loss: 2.2118 - categorical_accuracy: 0.2784\n",
      "Epoch 47/100\n",
      "25/25 [==============================] - 1s 22ms/step - loss: 2.1449 - categorical_accuracy: 0.2732\n",
      "Epoch 48/100\n",
      "25/25 [==============================] - 1s 22ms/step - loss: 2.1133 - categorical_accuracy: 0.2732\n",
      "Epoch 49/100\n",
      "25/25 [==============================] - 1s 21ms/step - loss: 2.2106 - categorical_accuracy: 0.2680\n",
      "Epoch 50/100\n",
      "25/25 [==============================] - 1s 20ms/step - loss: 2.1586 - categorical_accuracy: 0.2526\n",
      "Epoch 51/100\n",
      "25/25 [==============================] - 1s 23ms/step - loss: 2.0827 - categorical_accuracy: 0.2680\n",
      "Epoch 52/100\n",
      "25/25 [==============================] - 1s 25ms/step - loss: 2.0204 - categorical_accuracy: 0.3041\n",
      "Epoch 53/100\n",
      "25/25 [==============================] - 1s 22ms/step - loss: 2.0514 - categorical_accuracy: 0.2784\n",
      "Epoch 54/100\n",
      "25/25 [==============================] - 1s 25ms/step - loss: 1.9962 - categorical_accuracy: 0.2784\n",
      "Epoch 55/100\n",
      "25/25 [==============================] - 1s 28ms/step - loss: 2.1877 - categorical_accuracy: 0.2887\n",
      "Epoch 56/100\n",
      "25/25 [==============================] - 1s 22ms/step - loss: 2.0175 - categorical_accuracy: 0.3402\n",
      "Epoch 57/100\n",
      "25/25 [==============================] - 1s 22ms/step - loss: 2.0374 - categorical_accuracy: 0.3247\n",
      "Epoch 58/100\n",
      "25/25 [==============================] - 1s 27ms/step - loss: 1.9728 - categorical_accuracy: 0.3196\n",
      "Epoch 59/100\n",
      "25/25 [==============================] - 1s 23ms/step - loss: 1.9968 - categorical_accuracy: 0.2835\n",
      "Epoch 60/100\n",
      "25/25 [==============================] - 1s 23ms/step - loss: 1.8030 - categorical_accuracy: 0.3505\n",
      "Epoch 61/100\n",
      "25/25 [==============================] - 1s 25ms/step - loss: 1.8200 - categorical_accuracy: 0.3711\n",
      "Epoch 62/100\n",
      "25/25 [==============================] - 0s 20ms/step - loss: 1.9601 - categorical_accuracy: 0.3402\n",
      "Epoch 63/100\n",
      "25/25 [==============================] - 0s 19ms/step - loss: 2.7154 - categorical_accuracy: 0.2423\n",
      "Epoch 64/100\n",
      "25/25 [==============================] - 0s 19ms/step - loss: 1.9968 - categorical_accuracy: 0.3402\n",
      "Epoch 65/100\n",
      "25/25 [==============================] - 0s 19ms/step - loss: 2.1183 - categorical_accuracy: 0.3454\n",
      "Epoch 66/100\n",
      "25/25 [==============================] - 1s 20ms/step - loss: 1.9945 - categorical_accuracy: 0.3247\n",
      "Epoch 67/100\n",
      "25/25 [==============================] - 0s 20ms/step - loss: 1.9228 - categorical_accuracy: 0.3557\n",
      "Epoch 68/100\n",
      "25/25 [==============================] - 0s 19ms/step - loss: 1.8156 - categorical_accuracy: 0.3711\n",
      "Epoch 69/100\n",
      "25/25 [==============================] - 0s 20ms/step - loss: 1.9184 - categorical_accuracy: 0.3608\n",
      "Epoch 70/100\n",
      "25/25 [==============================] - 0s 19ms/step - loss: 1.7737 - categorical_accuracy: 0.3660\n",
      "Epoch 71/100\n",
      "25/25 [==============================] - 0s 19ms/step - loss: 1.6766 - categorical_accuracy: 0.4227\n",
      "Epoch 72/100\n",
      "25/25 [==============================] - 1s 22ms/step - loss: 1.8081 - categorical_accuracy: 0.3247\n",
      "Epoch 73/100\n",
      "25/25 [==============================] - 0s 19ms/step - loss: 1.6149 - categorical_accuracy: 0.4381\n",
      "Epoch 74/100\n",
      "25/25 [==============================] - 0s 19ms/step - loss: 1.5821 - categorical_accuracy: 0.4485\n",
      "Epoch 75/100\n",
      "25/25 [==============================] - 0s 20ms/step - loss: 1.7258 - categorical_accuracy: 0.4021\n",
      "Epoch 76/100\n",
      "25/25 [==============================] - 0s 19ms/step - loss: 1.6155 - categorical_accuracy: 0.4381\n",
      "Epoch 77/100\n",
      "25/25 [==============================] - 0s 20ms/step - loss: 1.6170 - categorical_accuracy: 0.4639\n",
      "Epoch 78/100\n",
      "25/25 [==============================] - 0s 19ms/step - loss: 1.5968 - categorical_accuracy: 0.4124\n",
      "Epoch 79/100\n",
      "25/25 [==============================] - 0s 19ms/step - loss: 1.4013 - categorical_accuracy: 0.5052\n",
      "Epoch 80/100\n",
      "25/25 [==============================] - 0s 20ms/step - loss: 1.4703 - categorical_accuracy: 0.5052\n",
      "Epoch 81/100\n",
      "25/25 [==============================] - 1s 20ms/step - loss: 1.5873 - categorical_accuracy: 0.4588\n",
      "Epoch 82/100\n",
      "25/25 [==============================] - 0s 20ms/step - loss: 1.4856 - categorical_accuracy: 0.4845\n",
      "Epoch 83/100\n",
      "25/25 [==============================] - 0s 20ms/step - loss: 1.3942 - categorical_accuracy: 0.4948\n",
      "Epoch 84/100\n",
      "25/25 [==============================] - 0s 19ms/step - loss: 1.3909 - categorical_accuracy: 0.4948\n",
      "Epoch 85/100\n",
      "25/25 [==============================] - 0s 19ms/step - loss: 1.3202 - categorical_accuracy: 0.5206\n",
      "Epoch 86/100\n",
      "25/25 [==============================] - 0s 19ms/step - loss: 1.3208 - categorical_accuracy: 0.5103\n",
      "Epoch 87/100\n",
      "25/25 [==============================] - 0s 20ms/step - loss: 1.1979 - categorical_accuracy: 0.5928\n",
      "Epoch 88/100\n",
      "25/25 [==============================] - 0s 20ms/step - loss: 1.3460 - categorical_accuracy: 0.5567\n",
      "Epoch 89/100\n",
      "25/25 [==============================] - 1s 21ms/step - loss: 1.4677 - categorical_accuracy: 0.4897\n",
      "Epoch 90/100\n",
      "25/25 [==============================] - 0s 19ms/step - loss: 1.4771 - categorical_accuracy: 0.5052\n",
      "Epoch 91/100\n",
      "25/25 [==============================] - 1s 20ms/step - loss: 1.3796 - categorical_accuracy: 0.5670\n",
      "Epoch 92/100\n",
      "25/25 [==============================] - 0s 19ms/step - loss: 1.3003 - categorical_accuracy: 0.5567\n",
      "Epoch 93/100\n",
      "25/25 [==============================] - 0s 19ms/step - loss: 1.1740 - categorical_accuracy: 0.5773\n",
      "Epoch 94/100\n",
      "25/25 [==============================] - 0s 20ms/step - loss: 1.1894 - categorical_accuracy: 0.5928\n",
      "Epoch 95/100\n",
      "25/25 [==============================] - 0s 19ms/step - loss: 1.0400 - categorical_accuracy: 0.6031\n",
      "Epoch 96/100\n",
      "25/25 [==============================] - 1s 20ms/step - loss: 1.2280 - categorical_accuracy: 0.5464\n",
      "Epoch 97/100\n",
      "25/25 [==============================] - 0s 20ms/step - loss: 1.3178 - categorical_accuracy: 0.5464\n",
      "Epoch 98/100\n",
      "25/25 [==============================] - 1s 20ms/step - loss: 1.1711 - categorical_accuracy: 0.5876\n",
      "Epoch 99/100\n",
      "25/25 [==============================] - 0s 19ms/step - loss: 0.9775 - categorical_accuracy: 0.6546\n",
      "Epoch 100/100\n",
      "25/25 [==============================] - 0s 19ms/step - loss: 1.2799 - categorical_accuracy: 0.5928\n"
     ]
    },
    {
     "data": {
      "text/plain": [
       "<keras.callbacks.History at 0x7fd058c012b0>"
      ]
     },
     "execution_count": 189,
     "metadata": {},
     "output_type": "execute_result"
    }
   ],
   "source": [
    "from sklearn.preprocessing import LabelEncoder\n",
    "from keras.utils import to_categorical\n",
    "\n",
    "index_to_word = {word: i for i, word in enumerate(words)}\n",
    "y_train_categorical = to_categorical([index_to_word[word] for word in y_train], num_classes=len(words))\n",
    "\n",
    "input_shape = (lstm_landmarks[list(lstm_landmarks.keys())[0]].shape)  #Hopefully we can do variable number of frames later\n",
    "model = Sequential()\n",
    "model.add(LSTM(64, return_sequences=True, activation='relu', input_shape=input_shape))\n",
    "model.add(LSTM(128, return_sequences=True, activation='relu'))\n",
    "model.add(LSTM(64, return_sequences=False, activation='relu'))\n",
    "model.add(Dense(64, activation='relu'))\n",
    "model.add(Dense(32, activation='relu'))\n",
    "model.add(Dense(len(words), activation='softmax'))\n",
    "\n",
    "model.compile(optimizer='Adam', loss='categorical_crossentropy', metrics=['categorical_accuracy'])\n",
    "\n",
    "model.fit(X_train, y_train_categorical, epochs=100, batch_size=8)\n"
   ]
  },
  {
   "cell_type": "code",
   "execution_count": 190,
   "metadata": {},
   "outputs": [
    {
     "name": "stdout",
     "output_type": "stream",
     "text": [
      "2/2 [==============================] - 0s 12ms/step\n",
      "real: tall | output: tall\n",
      "real: basketball | output: basketball\n",
      "real: lazy | output: lazy\n",
      "real: big | output: big\n",
      "real: big | output: big\n",
      "real: beautiful | output: beautiful\n",
      "real: woman | output: woman\n",
      "real: daughter | output: daughter\n"
     ]
    }
   ],
   "source": [
    "for i,j in enumerate(model.predict(X_val).argmax(axis=1)):\n",
    "    if y_val[i] == words[j]:\n",
    "        print(\"real:\",y_val[i],\"| output:\", words[j])"
   ]
  }
 ],
 "metadata": {
  "kernelspec": {
   "display_name": "ai",
   "language": "python",
   "name": "python3"
  },
  "language_info": {
   "codemirror_mode": {
    "name": "ipython",
    "version": 3
   },
   "file_extension": ".py",
   "mimetype": "text/x-python",
   "name": "python",
   "nbconvert_exporter": "python",
   "pygments_lexer": "ipython3",
   "version": "3.8.18"
  }
 },
 "nbformat": 4,
 "nbformat_minor": 2
}
