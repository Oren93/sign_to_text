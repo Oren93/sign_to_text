{
 "cells": [
  {
   "cell_type": "markdown",
   "metadata": {},
   "source": [
    "# Models training\n",
    "Similar to notebook 08. In this notebook we train and analyze a dense model. The idea is that every **set of frame's landmarks** yield probabilities for all the words in our dictionary. Similar to what we previously tried but multiple frame's landmarks flatten together."
   ]
  },
  {
   "cell_type": "markdown",
   "metadata": {},
   "source": [
    "## 0.1 Load variable\n",
    "This notebook is a direct continuation of data_preprocessing.ipynb. We start by loading the necessary libraries variables from that."
   ]
  },
  {
   "cell_type": "code",
   "execution_count": 43,
   "metadata": {},
   "outputs": [],
   "source": [
    "import os\n",
    "import pickle\n",
    "import numpy as np\n",
    "import pandas as pd\n",
    "import matplotlib.pyplot as plt\n",
    "from collections import Counter\n",
    "from tensorflow.keras.models import Sequential\n",
    "from tensorflow.keras.layers import Dense\n",
    "from landmarks_augmentator import produce_augmentations"
   ]
  },
  {
   "cell_type": "code",
   "execution_count": 44,
   "metadata": {},
   "outputs": [],
   "source": [
    "data_info = pd.read_csv('data/video_labels.csv',dtype={'video_id': object})\n",
    "words = dict(Counter(data_info.word).most_common(31)).keys()\n",
    "\n",
    "data_info = data_info.loc[data_info.word.isin(words)]\n",
    "\n",
    "POSE = np.hstack((np.ones(33), np.zeros(21+21+468))) == 1\n",
    "LH = np.hstack((np.zeros(33), np.ones(21), np.zeros(21+468))) == 1\n",
    "RH = np.hstack((np.zeros(33+21), np.ones(21), np.zeros(468))) == 1\n",
    "FACE = np.hstack((np.zeros(33+21+21), np.ones(468))) == 1\n",
    "\n",
    "def load_landmarks(filename):\n",
    "    working_dir = './'\n",
    "    try:\n",
    "        with open(os.path.join(working_dir,'data',filename), 'rb') as file:\n",
    "            lmarks = pickle.load(file)\n",
    "    except FileNotFoundError:\n",
    "        # If the file doesn't exist, initialize the variable\n",
    "        print(f'Could not open {filename}')\n",
    "        lmarks = {} # This value contains the landmarks points of all frames, in all the videos\n",
    "    return lmarks\n",
    "\n",
    "\n",
    "video_ids = list(data_info.video_id)\n",
    "subset_landmarks = {}\n",
    "for i in range(1,8):\n",
    "    lmarks = load_landmarks(f'landmarks_vol{i}.pkl')\n",
    "    for key, value in lmarks.items():\n",
    "        if key in video_ids:\n",
    "            subset_landmarks[key] = value\n",
    "\n",
    "\n",
    "landmarks = {key: [] for key in subset_landmarks.keys()}\n",
    "\n",
    "LANDMARKS_LENGTH = 543 # Fixed and determined by the mediapipe package. The total number of landmarks in the 4 categories.\n",
    "\n",
    "for key, video in subset_landmarks.items():\n",
    "    new_video = np.zeros((len(video),LANDMARKS_LENGTH,3)) # frame x landdmarks x coordinates\n",
    "    for i, frame in enumerate(video):\n",
    "        pose = frame['pose'][:,:3] if frame['pose'].shape == (33, 4) else frame['pose'].reshape((33, 4))[:,:3]\n",
    "        lh = frame['lh'] if frame['lh'].shape == (21, 3) else frame['lh'].reshape((21, 3))\n",
    "        rh = frame['rh'] if frame['rh'].shape == (21, 3) else frame['rh'].reshape((21, 3))\n",
    "        face = frame['face'] if frame['face'].shape == (468, 3) else frame['face'].reshape((468, 3))\n",
    "        frame_landmarks = np.vstack((pose, lh, rh, face))\n",
    "        new_video[i] = frame_landmarks\n",
    "    landmarks[key] = new_video\n",
    "\n",
    "del lmarks, subset_landmarks"
   ]
  },
  {
   "cell_type": "markdown",
   "metadata": {},
   "source": [
    "## 0.2 Prepare data"
   ]
  },
  {
   "cell_type": "code",
   "execution_count": 45,
   "metadata": {},
   "outputs": [],
   "source": [
    "FRAMES_JOIN = 6"
   ]
  },
  {
   "cell_type": "code",
   "execution_count": 46,
   "metadata": {},
   "outputs": [],
   "source": [
    "data_info = data_info.loc[data_info.video_id.isin(landmarks.keys())]\n",
    "# train, val, and test as given by the data authors, should find a better split\n",
    "train_ids = list(data_info.loc[data_info.split=='train','video_id'])\n",
    "validation_ids = list(data_info.loc[data_info.split=='val','video_id'])\n",
    "test_ids = list(data_info.loc[data_info.split=='test','video_id'])"
   ]
  },
  {
   "cell_type": "markdown",
   "metadata": {},
   "source": [
    "## 0.3 Produce Augmentations \n",
    "For train set only"
   ]
  },
  {
   "cell_type": "code",
   "execution_count": 47,
   "metadata": {},
   "outputs": [],
   "source": [
    "#subset_landmarks = produce_augmentations(subset_landmarks,data_info)\n",
    "train_landmarks = {id:video for id, video in landmarks.items() if id in train_ids}\n",
    "train_landmarks = produce_augmentations(train_landmarks,data_info.loc[data_info.video_id.isin(train_landmarks.keys())])\n",
    "for id, video in list(landmarks.items()):\n",
    "    if id in train_ids:\n",
    "        del landmarks[id]"
   ]
  },
  {
   "cell_type": "code",
   "execution_count": 48,
   "metadata": {},
   "outputs": [
    {
     "name": "stderr",
     "output_type": "stream",
     "text": [
      "/var/folders/sl/bbs_fbvd6bz2p7tm527x836m0000gn/T/ipykernel_70851/1409443712.py:6: SettingWithCopyWarning: \n",
      "A value is trying to be set on a copy of a slice from a DataFrame.\n",
      "Try using .loc[row_indexer,col_indexer] = value instead\n",
      "\n",
      "See the caveats in the documentation: https://pandas.pydata.org/pandas-docs/stable/user_guide/indexing.html#returning-a-view-versus-a-copy\n",
      "  augmented_row.video_id = id\n"
     ]
    },
    {
     "name": "stdout",
     "output_type": "stream",
     "text": [
      "2460 videos in total for 31 words\n"
     ]
    }
   ],
   "source": [
    "# Update the table for the augmented data\n",
    "for id, video in train_landmarks.items():\n",
    "    original_id = id.split('_')[0]\n",
    "    if original_id != id and id not in data_info.video_id: # if augmented type, add its label to the data_info table\n",
    "        augmented_row = data_info.loc[data_info.video_id==original_id,:]\n",
    "        augmented_row.video_id = id\n",
    "        data_info = pd.concat([data_info, augmented_row])\n",
    "train_ids = list(data_info.loc[data_info.split=='train','video_id'])\n",
    "\n",
    "print(f'{len(landmarks)+len(train_landmarks)} videos in total for {len(words)} words')"
   ]
  },
  {
   "cell_type": "markdown",
   "metadata": {},
   "source": [
    "## 0.4 Prepare data format\n",
    "Concatenate frame's landmark."
   ]
  },
  {
   "cell_type": "code",
   "execution_count": 49,
   "metadata": {},
   "outputs": [],
   "source": [
    "import sys\n",
    "def progres_bar(i,total):\n",
    "        sys.stdout.write('\\r')\n",
    "        # the exact output you're looking for:\n",
    "        sys.stdout.write(f\"[%-{50}s] %d%%\" % ('#'*int(i/(total/50)), (100/total)*i))\n",
    "        sys.stdout.flush()"
   ]
  },
  {
   "cell_type": "code",
   "execution_count": 50,
   "metadata": {},
   "outputs": [],
   "source": [
    "def concat_frames(landmarks,ids,exclude):\n",
    "    total_frames = sum(max(len(landmarks[id])-2*exclude-FRAMES_JOIN+1,0) for id in ids)\n",
    "    X = np.zeros((total_frames, FRAMES_JOIN*543, 3))\n",
    "    y = []\n",
    "    total_frame_idx = 0\n",
    "    for id in ids:\n",
    "        last_frame = len(landmarks[id])-exclude-FRAMES_JOIN+1\n",
    "        num_frames = last_frame - exclude\n",
    "        if num_frames < 1:\n",
    "            continue\n",
    "        concat_frames = np.zeros((num_frames, FRAMES_JOIN*543, 3))\n",
    "        for frame_idx in range(exclude,last_frame):\n",
    "            concat_frames[frame_idx-exclude] = np.vstack(landmarks[id][frame_idx:frame_idx+FRAMES_JOIN])\n",
    "        X[frame_idx:frame_idx + num_frames] = concat_frames\n",
    "        y.extend([data_info.loc[data_info.video_id == id, 'word'].item()] * num_frames)\n",
    "        total_frame_idx += num_frames\n",
    "        progres_bar(total_frame_idx, total_frames)\n",
    "\n",
    "    print('')\n",
    "    return X,y"
   ]
  },
  {
   "cell_type": "code",
   "execution_count": 51,
   "metadata": {},
   "outputs": [
    {
     "name": "stdout",
     "output_type": "stream",
     "text": [
      "[                                                  ] 0%"
     ]
    },
    {
     "name": "stdout",
     "output_type": "stream",
     "text": [
      "[##################################################] 100%\n",
      "[##################################################] 100%\n",
      "[##################################################] 100%\n"
     ]
    }
   ],
   "source": [
    "exclude = 3 # Don't use first and last 3 frames\n",
    "\n",
    "X_train,y_train = concat_frames(train_landmarks,train_ids,exclude)\n",
    "X_val,y_val = concat_frames(landmarks,validation_ids,exclude)\n",
    "X_test,y_test = concat_frames(landmarks,test_ids,exclude)\n",
    "\n",
    "del landmarks, train_landmarks\n"
   ]
  },
  {
   "cell_type": "code",
   "execution_count": 52,
   "metadata": {},
   "outputs": [],
   "source": [
    "# Suffle the train set\n",
    "num_instances = X_train.shape[0]\n",
    "shuffled_indices = np.arange(num_instances)\n",
    "np.random.shuffle(shuffled_indices)\n",
    "X_train = X_train[shuffled_indices]\n",
    "y_train = np.array(y_train)[shuffled_indices]\n"
   ]
  },
  {
   "cell_type": "code",
   "execution_count": 53,
   "metadata": {},
   "outputs": [],
   "source": [
    "X_train = np.array([frame.flatten() for frame in X_train])\n",
    "X_val = np.array([frame.flatten() for frame in X_val])\n",
    "X_test = np.array([frame.flatten() for frame in X_test])\n"
   ]
  },
  {
   "cell_type": "markdown",
   "metadata": {},
   "source": [
    "## 1.2 Define and train the model"
   ]
  },
  {
   "cell_type": "code",
   "execution_count": 55,
   "metadata": {},
   "outputs": [
    {
     "name": "stdout",
     "output_type": "stream",
     "text": [
      "Model: \"sequential_1\"\n",
      "_________________________________________________________________\n",
      " Layer (type)                Output Shape              Param #   \n",
      "=================================================================\n",
      " dense_5 (Dense)             (None, 1024)              10009600  \n",
      "                                                                 \n",
      " dropout_3 (Dropout)         (None, 1024)              0         \n",
      "                                                                 \n",
      " dense_6 (Dense)             (None, 512)               524800    \n",
      "                                                                 \n",
      " dropout_4 (Dropout)         (None, 512)               0         \n",
      "                                                                 \n",
      " dense_7 (Dense)             (None, 256)               131328    \n",
      "                                                                 \n",
      " dropout_5 (Dropout)         (None, 256)               0         \n",
      "                                                                 \n",
      " dense_8 (Dense)             (None, 128)               32896     \n",
      "                                                                 \n",
      " dense_9 (Dense)             (None, 31)                3999      \n",
      "                                                                 \n",
      "=================================================================\n",
      "Total params: 10,702,623\n",
      "Trainable params: 10,702,623\n",
      "Non-trainable params: 0\n",
      "_________________________________________________________________\n"
     ]
    }
   ],
   "source": [
    "from tensorflow import keras\n",
    "from keras.utils import to_categorical\n",
    "from keras.optimizers import Adam\n",
    "from keras.layers import Conv1D, MaxPooling2D, Flatten, Dense, Dropout\n",
    "\n",
    "\n",
    "MODEL_VERSION = 7\n",
    "\n",
    "def load_tf_model(folder_path):\n",
    "    if not os.path.exists(folder_path):\n",
    "        return False\n",
    "    for file in os.listdir(folder_path):\n",
    "        if file.endswith('.keras'):\n",
    "            return keras.saving.load_model(os.path.join(folder_path,file))\n",
    "    return False\n",
    "folder_path = os.path.join('sign-to-text-interface','serving','nn',str(MODEL_VERSION))\n",
    "model = load_tf_model(folder_path)\n",
    "\n",
    "index_to_word = {word: i for i, word in enumerate(words)}\n",
    "y_train_categorical = to_categorical([index_to_word[word] for word in y_train], num_classes=len(words))\n",
    "y_val_categorical = to_categorical([index_to_word[word] for word in y_val], num_classes=len(words))\n",
    "if not model:    \n",
    "    input_shape = (X_train[0].shape)  #Hopefully we can do variable number of frames later\n",
    "    model = Sequential()\n",
    "    model.add(Dense(1024, activation = 'relu'))\n",
    "    model.add(Dropout(0.6))\n",
    "    model.add(Dense(512 , activation = 'relu'))\n",
    "    model.add(Dropout(0.4))\n",
    "    model.add(Dense(256 , activation = 'relu'))\n",
    "    model.add(Dropout(0.2))\n",
    "    model.add(Dense(128 , activation = 'relu'))\n",
    "    model.add(Dense(len(words), activation='softmax'))\n",
    "    \n",
    "    model.build(input_shape=(None, *input_shape))\n",
    "    \n",
    "    adam_optimizer = Adam(lr=0.001)\n",
    "    model.compile(optimizer=adam_optimizer, loss='categorical_crossentropy', metrics=['categorical_accuracy'])\n",
    "\n",
    "model.summary()"
   ]
  },
  {
   "cell_type": "code",
   "execution_count": 56,
   "metadata": {},
   "outputs": [
    {
     "name": "stdout",
     "output_type": "stream",
     "text": [
      "Epoch 1/10\n",
      "25082/25082 [==============================] - ETA: 0s - loss: 3.4100 - categorical_accuracy: 0.0505\n",
      "Epoch 1: val_categorical_accuracy improved from -inf to 0.06623, saving model to model_7_31_e0.h5\n",
      "25082/25082 [==============================] - 914s 36ms/step - loss: 3.4100 - categorical_accuracy: 0.0505 - val_loss: 34.4590 - val_categorical_accuracy: 0.0662\n",
      "Epoch 2/10\n",
      "25081/25082 [============================>.] - ETA: 0s - loss: 3.4024 - categorical_accuracy: 0.0510\n",
      "Epoch 2: val_categorical_accuracy did not improve from 0.06623\n",
      "25082/25082 [==============================] - 785s 31ms/step - loss: 3.4024 - categorical_accuracy: 0.0510 - val_loss: 34.4349 - val_categorical_accuracy: 0.0662\n",
      "Epoch 3/10\n",
      "25082/25082 [==============================] - ETA: 0s - loss: 3.4023 - categorical_accuracy: 0.0504\n",
      "Epoch 3: val_categorical_accuracy did not improve from 0.06623\n",
      "25082/25082 [==============================] - 801s 32ms/step - loss: 3.4023 - categorical_accuracy: 0.0504 - val_loss: 34.4355 - val_categorical_accuracy: 0.0662\n",
      "Epoch 4/10\n",
      " 6466/25082 [======>.......................] - ETA: 9:21 - loss: 3.4027 - categorical_accuracy: 0.0513"
     ]
    },
    {
     "ename": "KeyboardInterrupt",
     "evalue": "",
     "output_type": "error",
     "traceback": [
      "\u001b[0;31m---------------------------------------------------------------------------\u001b[0m",
      "\u001b[0;31mKeyboardInterrupt\u001b[0m                         Traceback (most recent call last)",
      "Cell \u001b[0;32mIn[56], line 12\u001b[0m\n\u001b[1;32m     10\u001b[0m     \u001b[38;5;28mprint\u001b[39m(\u001b[38;5;124m'\u001b[39m\u001b[38;5;124mloaded weights and procceed training\u001b[39m\u001b[38;5;124m'\u001b[39m)\n\u001b[1;32m     11\u001b[0m     model\u001b[38;5;241m.\u001b[39mload_weights(last_trained_epoch)\n\u001b[0;32m---> 12\u001b[0m history \u001b[38;5;241m=\u001b[39m \u001b[43mmodel\u001b[49m\u001b[38;5;241;43m.\u001b[39;49m\u001b[43mfit\u001b[49m\u001b[43m(\u001b[49m\u001b[43mX_train\u001b[49m\u001b[43m,\u001b[49m\u001b[43m \u001b[49m\u001b[43my_train_categorical\u001b[49m\u001b[43m,\u001b[49m\u001b[43mverbose\u001b[49m\u001b[38;5;241;43m=\u001b[39;49m\u001b[38;5;241;43m1\u001b[39;49m\u001b[43m,\u001b[49m\u001b[43m \u001b[49m\u001b[43mepochs\u001b[49m\u001b[38;5;241;43m=\u001b[39;49m\u001b[38;5;241;43m10\u001b[39;49m\u001b[43m,\u001b[49m\u001b[43m \u001b[49m\u001b[43mbatch_size\u001b[49m\u001b[38;5;241;43m=\u001b[39;49m\u001b[38;5;241;43m5\u001b[39;49m\u001b[43m,\u001b[49m\u001b[43m \u001b[49m\u001b[43mcallbacks\u001b[49m\u001b[38;5;241;43m=\u001b[39;49m\u001b[43mcallbacks_list\u001b[49m\u001b[43m,\u001b[49m\u001b[43m \u001b[49m\u001b[43mvalidation_data\u001b[49m\u001b[43m \u001b[49m\u001b[38;5;241;43m=\u001b[39;49m\u001b[43m \u001b[49m\u001b[43m(\u001b[49m\u001b[43mX_val\u001b[49m\u001b[43m,\u001b[49m\u001b[43m \u001b[49m\u001b[43my_val_categorical\u001b[49m\u001b[43m)\u001b[49m\u001b[43m)\u001b[49m\n",
      "File \u001b[0;32m~/anaconda3/envs/tf/lib/python3.8/site-packages/keras/utils/traceback_utils.py:65\u001b[0m, in \u001b[0;36mfilter_traceback.<locals>.error_handler\u001b[0;34m(*args, **kwargs)\u001b[0m\n\u001b[1;32m     63\u001b[0m filtered_tb \u001b[38;5;241m=\u001b[39m \u001b[38;5;28;01mNone\u001b[39;00m\n\u001b[1;32m     64\u001b[0m \u001b[38;5;28;01mtry\u001b[39;00m:\n\u001b[0;32m---> 65\u001b[0m     \u001b[38;5;28;01mreturn\u001b[39;00m \u001b[43mfn\u001b[49m\u001b[43m(\u001b[49m\u001b[38;5;241;43m*\u001b[39;49m\u001b[43margs\u001b[49m\u001b[43m,\u001b[49m\u001b[43m \u001b[49m\u001b[38;5;241;43m*\u001b[39;49m\u001b[38;5;241;43m*\u001b[39;49m\u001b[43mkwargs\u001b[49m\u001b[43m)\u001b[49m\n\u001b[1;32m     66\u001b[0m \u001b[38;5;28;01mexcept\u001b[39;00m \u001b[38;5;167;01mException\u001b[39;00m \u001b[38;5;28;01mas\u001b[39;00m e:\n\u001b[1;32m     67\u001b[0m     filtered_tb \u001b[38;5;241m=\u001b[39m _process_traceback_frames(e\u001b[38;5;241m.\u001b[39m__traceback__)\n",
      "File \u001b[0;32m~/anaconda3/envs/tf/lib/python3.8/site-packages/keras/engine/training.py:1650\u001b[0m, in \u001b[0;36mModel.fit\u001b[0;34m(self, x, y, batch_size, epochs, verbose, callbacks, validation_split, validation_data, shuffle, class_weight, sample_weight, initial_epoch, steps_per_epoch, validation_steps, validation_batch_size, validation_freq, max_queue_size, workers, use_multiprocessing)\u001b[0m\n\u001b[1;32m   1642\u001b[0m \u001b[38;5;28;01mwith\u001b[39;00m tf\u001b[38;5;241m.\u001b[39mprofiler\u001b[38;5;241m.\u001b[39mexperimental\u001b[38;5;241m.\u001b[39mTrace(\n\u001b[1;32m   1643\u001b[0m     \u001b[38;5;124m\"\u001b[39m\u001b[38;5;124mtrain\u001b[39m\u001b[38;5;124m\"\u001b[39m,\n\u001b[1;32m   1644\u001b[0m     epoch_num\u001b[38;5;241m=\u001b[39mepoch,\n\u001b[0;32m   (...)\u001b[0m\n\u001b[1;32m   1647\u001b[0m     _r\u001b[38;5;241m=\u001b[39m\u001b[38;5;241m1\u001b[39m,\n\u001b[1;32m   1648\u001b[0m ):\n\u001b[1;32m   1649\u001b[0m     callbacks\u001b[38;5;241m.\u001b[39mon_train_batch_begin(step)\n\u001b[0;32m-> 1650\u001b[0m     tmp_logs \u001b[38;5;241m=\u001b[39m \u001b[38;5;28;43mself\u001b[39;49m\u001b[38;5;241;43m.\u001b[39;49m\u001b[43mtrain_function\u001b[49m\u001b[43m(\u001b[49m\u001b[43miterator\u001b[49m\u001b[43m)\u001b[49m\n\u001b[1;32m   1651\u001b[0m     \u001b[38;5;28;01mif\u001b[39;00m data_handler\u001b[38;5;241m.\u001b[39mshould_sync:\n\u001b[1;32m   1652\u001b[0m         context\u001b[38;5;241m.\u001b[39masync_wait()\n",
      "File \u001b[0;32m~/anaconda3/envs/tf/lib/python3.8/site-packages/tensorflow/python/util/traceback_utils.py:150\u001b[0m, in \u001b[0;36mfilter_traceback.<locals>.error_handler\u001b[0;34m(*args, **kwargs)\u001b[0m\n\u001b[1;32m    148\u001b[0m filtered_tb \u001b[38;5;241m=\u001b[39m \u001b[38;5;28;01mNone\u001b[39;00m\n\u001b[1;32m    149\u001b[0m \u001b[38;5;28;01mtry\u001b[39;00m:\n\u001b[0;32m--> 150\u001b[0m   \u001b[38;5;28;01mreturn\u001b[39;00m \u001b[43mfn\u001b[49m\u001b[43m(\u001b[49m\u001b[38;5;241;43m*\u001b[39;49m\u001b[43margs\u001b[49m\u001b[43m,\u001b[49m\u001b[43m \u001b[49m\u001b[38;5;241;43m*\u001b[39;49m\u001b[38;5;241;43m*\u001b[39;49m\u001b[43mkwargs\u001b[49m\u001b[43m)\u001b[49m\n\u001b[1;32m    151\u001b[0m \u001b[38;5;28;01mexcept\u001b[39;00m \u001b[38;5;167;01mException\u001b[39;00m \u001b[38;5;28;01mas\u001b[39;00m e:\n\u001b[1;32m    152\u001b[0m   filtered_tb \u001b[38;5;241m=\u001b[39m _process_traceback_frames(e\u001b[38;5;241m.\u001b[39m__traceback__)\n",
      "File \u001b[0;32m~/anaconda3/envs/tf/lib/python3.8/site-packages/tensorflow/python/eager/polymorphic_function/polymorphic_function.py:880\u001b[0m, in \u001b[0;36mFunction.__call__\u001b[0;34m(self, *args, **kwds)\u001b[0m\n\u001b[1;32m    877\u001b[0m compiler \u001b[38;5;241m=\u001b[39m \u001b[38;5;124m\"\u001b[39m\u001b[38;5;124mxla\u001b[39m\u001b[38;5;124m\"\u001b[39m \u001b[38;5;28;01mif\u001b[39;00m \u001b[38;5;28mself\u001b[39m\u001b[38;5;241m.\u001b[39m_jit_compile \u001b[38;5;28;01melse\u001b[39;00m \u001b[38;5;124m\"\u001b[39m\u001b[38;5;124mnonXla\u001b[39m\u001b[38;5;124m\"\u001b[39m\n\u001b[1;32m    879\u001b[0m \u001b[38;5;28;01mwith\u001b[39;00m OptionalXlaContext(\u001b[38;5;28mself\u001b[39m\u001b[38;5;241m.\u001b[39m_jit_compile):\n\u001b[0;32m--> 880\u001b[0m   result \u001b[38;5;241m=\u001b[39m \u001b[38;5;28;43mself\u001b[39;49m\u001b[38;5;241;43m.\u001b[39;49m\u001b[43m_call\u001b[49m\u001b[43m(\u001b[49m\u001b[38;5;241;43m*\u001b[39;49m\u001b[43margs\u001b[49m\u001b[43m,\u001b[49m\u001b[43m \u001b[49m\u001b[38;5;241;43m*\u001b[39;49m\u001b[38;5;241;43m*\u001b[39;49m\u001b[43mkwds\u001b[49m\u001b[43m)\u001b[49m\n\u001b[1;32m    882\u001b[0m new_tracing_count \u001b[38;5;241m=\u001b[39m \u001b[38;5;28mself\u001b[39m\u001b[38;5;241m.\u001b[39mexperimental_get_tracing_count()\n\u001b[1;32m    883\u001b[0m without_tracing \u001b[38;5;241m=\u001b[39m (tracing_count \u001b[38;5;241m==\u001b[39m new_tracing_count)\n",
      "File \u001b[0;32m~/anaconda3/envs/tf/lib/python3.8/site-packages/tensorflow/python/eager/polymorphic_function/polymorphic_function.py:912\u001b[0m, in \u001b[0;36mFunction._call\u001b[0;34m(self, *args, **kwds)\u001b[0m\n\u001b[1;32m    909\u001b[0m   \u001b[38;5;28mself\u001b[39m\u001b[38;5;241m.\u001b[39m_lock\u001b[38;5;241m.\u001b[39mrelease()\n\u001b[1;32m    910\u001b[0m   \u001b[38;5;66;03m# In this case we have created variables on the first call, so we run the\u001b[39;00m\n\u001b[1;32m    911\u001b[0m   \u001b[38;5;66;03m# defunned version which is guaranteed to never create variables.\u001b[39;00m\n\u001b[0;32m--> 912\u001b[0m   \u001b[38;5;28;01mreturn\u001b[39;00m \u001b[38;5;28;43mself\u001b[39;49m\u001b[38;5;241;43m.\u001b[39;49m\u001b[43m_no_variable_creation_fn\u001b[49m\u001b[43m(\u001b[49m\u001b[38;5;241;43m*\u001b[39;49m\u001b[43margs\u001b[49m\u001b[43m,\u001b[49m\u001b[43m \u001b[49m\u001b[38;5;241;43m*\u001b[39;49m\u001b[38;5;241;43m*\u001b[39;49m\u001b[43mkwds\u001b[49m\u001b[43m)\u001b[49m  \u001b[38;5;66;03m# pylint: disable=not-callable\u001b[39;00m\n\u001b[1;32m    913\u001b[0m \u001b[38;5;28;01melif\u001b[39;00m \u001b[38;5;28mself\u001b[39m\u001b[38;5;241m.\u001b[39m_variable_creation_fn \u001b[38;5;129;01mis\u001b[39;00m \u001b[38;5;129;01mnot\u001b[39;00m \u001b[38;5;28;01mNone\u001b[39;00m:\n\u001b[1;32m    914\u001b[0m   \u001b[38;5;66;03m# Release the lock early so that multiple threads can perform the call\u001b[39;00m\n\u001b[1;32m    915\u001b[0m   \u001b[38;5;66;03m# in parallel.\u001b[39;00m\n\u001b[1;32m    916\u001b[0m   \u001b[38;5;28mself\u001b[39m\u001b[38;5;241m.\u001b[39m_lock\u001b[38;5;241m.\u001b[39mrelease()\n",
      "File \u001b[0;32m~/anaconda3/envs/tf/lib/python3.8/site-packages/tensorflow/python/eager/polymorphic_function/tracing_compiler.py:133\u001b[0m, in \u001b[0;36mTracingCompiler.__call__\u001b[0;34m(self, *args, **kwargs)\u001b[0m\n\u001b[1;32m    130\u001b[0m \u001b[38;5;250m\u001b[39m\u001b[38;5;124;03m\"\"\"Calls a graph function specialized to the inputs.\"\"\"\u001b[39;00m\n\u001b[1;32m    131\u001b[0m \u001b[38;5;28;01mwith\u001b[39;00m \u001b[38;5;28mself\u001b[39m\u001b[38;5;241m.\u001b[39m_lock:\n\u001b[1;32m    132\u001b[0m   (concrete_function,\n\u001b[0;32m--> 133\u001b[0m    filtered_flat_args) \u001b[38;5;241m=\u001b[39m \u001b[38;5;28;43mself\u001b[39;49m\u001b[38;5;241;43m.\u001b[39;49m\u001b[43m_maybe_define_function\u001b[49m\u001b[43m(\u001b[49m\u001b[43margs\u001b[49m\u001b[43m,\u001b[49m\u001b[43m \u001b[49m\u001b[43mkwargs\u001b[49m\u001b[43m)\u001b[49m\n\u001b[1;32m    134\u001b[0m \u001b[38;5;28;01mreturn\u001b[39;00m concrete_function\u001b[38;5;241m.\u001b[39m_call_flat(\n\u001b[1;32m    135\u001b[0m     filtered_flat_args, captured_inputs\u001b[38;5;241m=\u001b[39mconcrete_function\u001b[38;5;241m.\u001b[39mcaptured_inputs)\n",
      "File \u001b[0;32m~/anaconda3/envs/tf/lib/python3.8/site-packages/tensorflow/python/eager/polymorphic_function/tracing_compiler.py:336\u001b[0m, in \u001b[0;36mTracingCompiler._maybe_define_function\u001b[0;34m(self, args, kwargs)\u001b[0m\n\u001b[1;32m    331\u001b[0m captures \u001b[38;5;241m=\u001b[39m \u001b[38;5;28mself\u001b[39m\u001b[38;5;241m.\u001b[39m_captures_container\u001b[38;5;241m.\u001b[39mget_snapshot()\n\u001b[1;32m    333\u001b[0m \u001b[38;5;66;03m# cache_key_deletion_observer is useless here. It's based on all captures.\u001b[39;00m\n\u001b[1;32m    334\u001b[0m \u001b[38;5;66;03m# A new cache key will be built later when saving ConcreteFunction because\u001b[39;00m\n\u001b[1;32m    335\u001b[0m \u001b[38;5;66;03m# only active captures should be saved.\u001b[39;00m\n\u001b[0;32m--> 336\u001b[0m lookup_func_key, _ \u001b[38;5;241m=\u001b[39m \u001b[43mfunction_context\u001b[49m\u001b[38;5;241;43m.\u001b[39;49m\u001b[43mmake_cache_key\u001b[49m\u001b[43m(\u001b[49m\u001b[43m(\u001b[49m\u001b[43margs\u001b[49m\u001b[43m,\u001b[49m\u001b[43m \u001b[49m\u001b[43mkwargs\u001b[49m\u001b[43m)\u001b[49m\u001b[43m,\u001b[49m\n\u001b[1;32m    337\u001b[0m \u001b[43m                                                     \u001b[49m\u001b[43mcaptures\u001b[49m\u001b[43m)\u001b[49m\n\u001b[1;32m    338\u001b[0m concrete_function \u001b[38;5;241m=\u001b[39m \u001b[38;5;28mself\u001b[39m\u001b[38;5;241m.\u001b[39m_function_cache\u001b[38;5;241m.\u001b[39mlookup(lookup_func_key, \u001b[38;5;28;01mTrue\u001b[39;00m)\n\u001b[1;32m    339\u001b[0m \u001b[38;5;28;01mif\u001b[39;00m concrete_function \u001b[38;5;129;01mis\u001b[39;00m \u001b[38;5;129;01mnot\u001b[39;00m \u001b[38;5;28;01mNone\u001b[39;00m:\n",
      "File \u001b[0;32m~/anaconda3/envs/tf/lib/python3.8/site-packages/tensorflow/python/eager/polymorphic_function/function_context.py:139\u001b[0m, in \u001b[0;36mmake_cache_key\u001b[0;34m(args, captures)\u001b[0m\n\u001b[1;32m    135\u001b[0m captures_dict_tracetype \u001b[38;5;241m=\u001b[39m trace_type\u001b[38;5;241m.\u001b[39mfrom_value(\n\u001b[1;32m    136\u001b[0m     captures, signature_context)\n\u001b[1;32m    138\u001b[0m \u001b[38;5;66;03m# TODO(fmuham): Use the actual FunctionType\u001b[39;00m\n\u001b[0;32m--> 139\u001b[0m dummy_function_type \u001b[38;5;241m=\u001b[39m \u001b[43mfunction_type\u001b[49m\u001b[38;5;241;43m.\u001b[39;49m\u001b[43mFunctionType\u001b[49m([\n\u001b[1;32m    140\u001b[0m     function_type\u001b[38;5;241m.\u001b[39mParameter(\u001b[38;5;124m\"\u001b[39m\u001b[38;5;124margs_kwargs\u001b[39m\u001b[38;5;124m\"\u001b[39m,\n\u001b[1;32m    141\u001b[0m                             function_type\u001b[38;5;241m.\u001b[39mParameter\u001b[38;5;241m.\u001b[39mPOSITIONAL_ONLY,\n\u001b[1;32m    142\u001b[0m                             \u001b[38;5;28;01mFalse\u001b[39;00m,\n\u001b[1;32m    143\u001b[0m                             args_signature)\n\u001b[1;32m    144\u001b[0m ], collections\u001b[38;5;241m.\u001b[39mOrderedDict(captures_dict_tracetype\u001b[38;5;241m.\u001b[39mmapping))\n\u001b[1;32m    146\u001b[0m \u001b[38;5;28;01mreturn\u001b[39;00m function_cache\u001b[38;5;241m.\u001b[39mFunctionCacheKey(\n\u001b[1;32m    147\u001b[0m     dummy_function_type,\n\u001b[1;32m    148\u001b[0m     make_function_context()), signature_context\u001b[38;5;241m.\u001b[39mdeletion_observer\n",
      "\u001b[0;31mKeyboardInterrupt\u001b[0m: "
     ]
    }
   ],
   "source": [
    "# If the training was fast I would use this cell.\n",
    "from keras.callbacks import ModelCheckpoint\n",
    "\n",
    "last_trained_epoch = \"model_7_31_e.h5\"\n",
    "new_epoch = \"model_7_31_e0.h5\"\n",
    "checkpoint = ModelCheckpoint(new_epoch, monitor='val_categorical_accuracy', verbose=1, save_weights_only=True, save_best_only=True, mode='max')\n",
    "callbacks_list = [checkpoint]\n",
    "\n",
    "if os.path.exists(last_trained_epoch):\n",
    "    print('loaded weights and procceed training')\n",
    "    model.load_weights(last_trained_epoch)\n",
    "history = model.fit(X_train, y_train_categorical,verbose=1, epochs=10, batch_size=5, callbacks=callbacks_list, validation_data = (X_val, y_val_categorical))"
   ]
  },
  {
   "cell_type": "code",
   "execution_count": 45,
   "metadata": {},
   "outputs": [
    {
     "data": {
      "image/png": "[encoded data removed]",
      "text/plain": [
       "<Figure size 640x480 with 1 Axes>"
      ]
     },
     "metadata": {},
     "output_type": "display_data"
    },
    {
     "data": {
      "image/png": "[encoded data removed]",
      "text/plain": [
       "<Figure size 640x480 with 1 Axes>"
      ]
     },
     "metadata": {},
     "output_type": "display_data"
    }
   ],
   "source": [
    "# summarize history for accuracy\n",
    "plt.plot(history.history['categorical_accuracy'])\n",
    "plt.plot(history.history['val_categorical_accuracy'])\n",
    "plt.title('model accuracy')\n",
    "plt.ylabel('accuracy')\n",
    "plt.xlabel('epoch')\n",
    "plt.legend(['train', 'val'], loc='upper left')\n",
    "plt.show()\n",
    "# summarize history for loss\n",
    "plt.plot(history.history['loss'])\n",
    "plt.plot(history.history['val_loss'])\n",
    "plt.title('model loss')\n",
    "plt.ylabel('loss')\n",
    "plt.xlabel('epoch')\n",
    "plt.legend(['train', 'test'], loc='upper left')\n",
    "plt.show()"
   ]
  },
  {
   "cell_type": "markdown",
   "metadata": {},
   "source": [
    "Let's find how many correctly classified instances we get"
   ]
  },
  {
   "cell_type": "code",
   "execution_count": 41,
   "metadata": {},
   "outputs": [
    {
     "name": "stdout",
     "output_type": "stream",
     "text": [
      "116/116 [==============================] - 1s 10ms/step\n"
     ]
    },
    {
     "data": {
      "text/html": [
       "<div>\n",
       "<style scoped>\n",
       "    .dataframe tbody tr th:only-of-type {\n",
       "        vertical-align: middle;\n",
       "    }\n",
       "\n",
       "    .dataframe tbody tr th {\n",
       "        vertical-align: top;\n",
       "    }\n",
       "\n",
       "    .dataframe thead th {\n",
       "        text-align: right;\n",
       "    }\n",
       "</style>\n",
       "<table border=\"1\" class=\"dataframe\">\n",
       "  <thead>\n",
       "    <tr style=\"text-align: right;\">\n",
       "      <th></th>\n",
       "      <th>word</th>\n",
       "      <th>correct_count</th>\n",
       "      <th>appeared_test</th>\n",
       "      <th>ratio</th>\n",
       "    </tr>\n",
       "  </thead>\n",
       "  <tbody>\n",
       "    <tr>\n",
       "      <th>0</th>\n",
       "      <td>shirt</td>\n",
       "      <td>155</td>\n",
       "      <td>155</td>\n",
       "      <td>100.000</td>\n",
       "    </tr>\n",
       "    <tr>\n",
       "      <th>1</th>\n",
       "      <td>walk</td>\n",
       "      <td>248</td>\n",
       "      <td>373</td>\n",
       "      <td>66.487</td>\n",
       "    </tr>\n",
       "    <tr>\n",
       "      <th>2</th>\n",
       "      <td>empty</td>\n",
       "      <td>0</td>\n",
       "      <td>126</td>\n",
       "      <td>0.000</td>\n",
       "    </tr>\n",
       "    <tr>\n",
       "      <th>3</th>\n",
       "      <td>small</td>\n",
       "      <td>0</td>\n",
       "      <td>25</td>\n",
       "      <td>0.000</td>\n",
       "    </tr>\n",
       "    <tr>\n",
       "      <th>4</th>\n",
       "      <td>morning</td>\n",
       "      <td>0</td>\n",
       "      <td>35</td>\n",
       "      <td>0.000</td>\n",
       "    </tr>\n",
       "    <tr>\n",
       "      <th>5</th>\n",
       "      <td>lazy</td>\n",
       "      <td>0</td>\n",
       "      <td>47</td>\n",
       "      <td>0.000</td>\n",
       "    </tr>\n",
       "    <tr>\n",
       "      <th>6</th>\n",
       "      <td>basketball</td>\n",
       "      <td>0</td>\n",
       "      <td>55</td>\n",
       "      <td>0.000</td>\n",
       "    </tr>\n",
       "    <tr>\n",
       "      <th>7</th>\n",
       "      <td>taste</td>\n",
       "      <td>0</td>\n",
       "      <td>56</td>\n",
       "      <td>0.000</td>\n",
       "    </tr>\n",
       "    <tr>\n",
       "      <th>8</th>\n",
       "      <td>dress</td>\n",
       "      <td>0</td>\n",
       "      <td>58</td>\n",
       "      <td>0.000</td>\n",
       "    </tr>\n",
       "    <tr>\n",
       "      <th>9</th>\n",
       "      <td>top</td>\n",
       "      <td>0</td>\n",
       "      <td>61</td>\n",
       "      <td>0.000</td>\n",
       "    </tr>\n",
       "    <tr>\n",
       "      <th>10</th>\n",
       "      <td>delicious</td>\n",
       "      <td>0</td>\n",
       "      <td>62</td>\n",
       "      <td>0.000</td>\n",
       "    </tr>\n",
       "    <tr>\n",
       "      <th>11</th>\n",
       "      <td>big</td>\n",
       "      <td>0</td>\n",
       "      <td>65</td>\n",
       "      <td>0.000</td>\n",
       "    </tr>\n",
       "    <tr>\n",
       "      <th>12</th>\n",
       "      <td>cheese</td>\n",
       "      <td>0</td>\n",
       "      <td>77</td>\n",
       "      <td>0.000</td>\n",
       "    </tr>\n",
       "    <tr>\n",
       "      <th>13</th>\n",
       "      <td>wear</td>\n",
       "      <td>0</td>\n",
       "      <td>103</td>\n",
       "      <td>0.000</td>\n",
       "    </tr>\n",
       "    <tr>\n",
       "      <th>14</th>\n",
       "      <td>beautiful</td>\n",
       "      <td>0</td>\n",
       "      <td>106</td>\n",
       "      <td>0.000</td>\n",
       "    </tr>\n",
       "    <tr>\n",
       "      <th>15</th>\n",
       "      <td>dark</td>\n",
       "      <td>0</td>\n",
       "      <td>136</td>\n",
       "      <td>0.000</td>\n",
       "    </tr>\n",
       "    <tr>\n",
       "      <th>16</th>\n",
       "      <td>woman</td>\n",
       "      <td>0</td>\n",
       "      <td>229</td>\n",
       "      <td>0.000</td>\n",
       "    </tr>\n",
       "    <tr>\n",
       "      <th>17</th>\n",
       "      <td>daughter</td>\n",
       "      <td>0</td>\n",
       "      <td>138</td>\n",
       "      <td>0.000</td>\n",
       "    </tr>\n",
       "    <tr>\n",
       "      <th>18</th>\n",
       "      <td>every</td>\n",
       "      <td>0</td>\n",
       "      <td>144</td>\n",
       "      <td>0.000</td>\n",
       "    </tr>\n",
       "    <tr>\n",
       "      <th>19</th>\n",
       "      <td>man</td>\n",
       "      <td>0</td>\n",
       "      <td>145</td>\n",
       "      <td>0.000</td>\n",
       "    </tr>\n",
       "    <tr>\n",
       "      <th>20</th>\n",
       "      <td>cold</td>\n",
       "      <td>0</td>\n",
       "      <td>157</td>\n",
       "      <td>0.000</td>\n",
       "    </tr>\n",
       "    <tr>\n",
       "      <th>21</th>\n",
       "      <td>tall</td>\n",
       "      <td>0</td>\n",
       "      <td>157</td>\n",
       "      <td>0.000</td>\n",
       "    </tr>\n",
       "    <tr>\n",
       "      <th>22</th>\n",
       "      <td>room</td>\n",
       "      <td>0</td>\n",
       "      <td>183</td>\n",
       "      <td>0.000</td>\n",
       "    </tr>\n",
       "    <tr>\n",
       "      <th>23</th>\n",
       "      <td>short</td>\n",
       "      <td>0</td>\n",
       "      <td>187</td>\n",
       "      <td>0.000</td>\n",
       "    </tr>\n",
       "    <tr>\n",
       "      <th>24</th>\n",
       "      <td>have</td>\n",
       "      <td>0</td>\n",
       "      <td>188</td>\n",
       "      <td>0.000</td>\n",
       "    </tr>\n",
       "    <tr>\n",
       "      <th>25</th>\n",
       "      <td>play</td>\n",
       "      <td>0</td>\n",
       "      <td>192</td>\n",
       "      <td>0.000</td>\n",
       "    </tr>\n",
       "    <tr>\n",
       "      <th>26</th>\n",
       "      <td>pizza</td>\n",
       "      <td>0</td>\n",
       "      <td>200</td>\n",
       "      <td>0.000</td>\n",
       "    </tr>\n",
       "    <tr>\n",
       "      <th>27</th>\n",
       "      <td>dog</td>\n",
       "      <td>0</td>\n",
       "      <td>209</td>\n",
       "      <td>0.000</td>\n",
       "    </tr>\n",
       "    <tr>\n",
       "      <th>28</th>\n",
       "      <td>red</td>\n",
       "      <td>0</td>\n",
       "      <td>20</td>\n",
       "      <td>0.000</td>\n",
       "    </tr>\n",
       "    <tr>\n",
       "      <th>29</th>\n",
       "      <td>afternoon</td>\n",
       "      <td>0</td>\n",
       "      <td>0</td>\n",
       "      <td>NaN</td>\n",
       "    </tr>\n",
       "    <tr>\n",
       "      <th>30</th>\n",
       "      <td>lamp</td>\n",
       "      <td>0</td>\n",
       "      <td>0</td>\n",
       "      <td>NaN</td>\n",
       "    </tr>\n",
       "  </tbody>\n",
       "</table>\n",
       "</div>"
      ],
      "text/plain": [
       "          word correct_count appeared_test    ratio\n",
       "0        shirt           155           155  100.000\n",
       "1         walk           248           373   66.487\n",
       "2        empty             0           126    0.000\n",
       "3        small             0            25    0.000\n",
       "4      morning             0            35    0.000\n",
       "5         lazy             0            47    0.000\n",
       "6   basketball             0            55    0.000\n",
       "7        taste             0            56    0.000\n",
       "8        dress             0            58    0.000\n",
       "9          top             0            61    0.000\n",
       "10   delicious             0            62    0.000\n",
       "11         big             0            65    0.000\n",
       "12      cheese             0            77    0.000\n",
       "13        wear             0           103    0.000\n",
       "14   beautiful             0           106    0.000\n",
       "15        dark             0           136    0.000\n",
       "16       woman             0           229    0.000\n",
       "17    daughter             0           138    0.000\n",
       "18       every             0           144    0.000\n",
       "19         man             0           145    0.000\n",
       "20        cold             0           157    0.000\n",
       "21        tall             0           157    0.000\n",
       "22        room             0           183    0.000\n",
       "23       short             0           187    0.000\n",
       "24        have             0           188    0.000\n",
       "25        play             0           192    0.000\n",
       "26       pizza             0           200    0.000\n",
       "27         dog             0           209    0.000\n",
       "28         red             0            20    0.000\n",
       "29   afternoon             0             0      NaN\n",
       "30        lamp             0             0      NaN"
      ]
     },
     "metadata": {},
     "output_type": "display_data"
    },
    {
     "name": "stdout",
     "output_type": "stream",
     "text": [
      "The mean and median amount of instances per word in the train set are: 2177.4193548387098 1735.0\n"
     ]
    }
   ],
   "source": [
    "count_train = Counter(y_train)\n",
    "def pred_stats(X = X_test,y = y_test):\n",
    "    correct = {}\n",
    "    pred = model.predict(X)\n",
    "    for i,j in enumerate(pred.argmax(axis=1)):\n",
    "        if y[i] == words[j]:\n",
    "            correct[y[i]] = correct.get(y[i],0) + 1\n",
    "    count_test = Counter(y)\n",
    "    pred_stats = []\n",
    "    for word in words:\n",
    "        row_data = {\"word\": word, \"correct_count\": correct.get(word, 0), \"appeared_test\": count_test.get(word, 0), \"train_instances\": count_train.get(word, 0)}\n",
    "        pred_stats.append(row_data)\n",
    "\n",
    "    stats = pd.concat([ pd.DataFrame(columns=[\"word\",\"correct_count\",\"appeared_test\",\"train_instances\"]), pd.DataFrame(pred_stats)], ignore_index=True)\n",
    "    return stats\n",
    "stats = pred_stats(X = X_val,y = y_val)\n",
    "#stats = pred_stats(X = X_test,y = y_test)\n",
    "\n",
    "stats = stats.loc[:,['word','correct_count','appeared_test']]\n",
    "stats = stats.sort_values('appeared_test',ascending=False).reset_index(drop=True)\n",
    "not_in_test = np.sum((stats.appeared_test==0))\n",
    "stats.loc[:,'ratio'] = (100000 * stats.correct_count[:-not_in_test] / stats.appeared_test[:-not_in_test]).astype(int)/1000\n",
    "stats = stats.sort_values('ratio',ascending=False).reset_index(drop=True)\n",
    "\n",
    "display(stats)\n",
    "print(\"The mean and median amount of instances per word in the train set are:\",np.mean(list(count_train.values())),np.median(list(count_train.values())))"
   ]
  },
  {
   "cell_type": "code",
   "execution_count": 75,
   "metadata": {},
   "outputs": [],
   "source": [
    "model.save('/Users/oren/Documents/School/ai/sign_to_text/sign-to-text-interface/serving/landmark_nn/6/sign_to_text.keras')"
   ]
  },
  {
   "cell_type": "markdown",
   "metadata": {},
   "source": []
  }
 ],
 "metadata": {
  "kernelspec": {
   "display_name": "ai",
   "language": "python",
   "name": "python3"
  },
  "language_info": {
   "codemirror_mode": {
    "name": "ipython",
    "version": 3
   },
   "file_extension": ".py",
   "mimetype": "text/x-python",
   "name": "python",
   "nbconvert_exporter": "python",
   "pygments_lexer": "ipython3",
   "version": "3.8.18"
  }
 },
 "nbformat": 4,
 "nbformat_minor": 2
}
